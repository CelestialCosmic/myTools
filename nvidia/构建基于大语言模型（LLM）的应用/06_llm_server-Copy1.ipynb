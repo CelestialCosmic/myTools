{
 "cells": [
  {
   "cell_type": "markdown",
   "id": "f0b3e0bb",
   "metadata": {},
   "source": [
    "<center><a href=\"https://www.nvidia.cn/training/\"><img src=\"https://dli-lms.s3.amazonaws.com/assets/general/DLI_Header_White.png\" width=\"400\" height=\"186\" /></a></center>"
   ]
  },
  {
   "cell_type": "markdown",
   "id": "9e439ff2",
   "metadata": {},
   "source": [
    "# <font color=\"#76b900\"> **6:** GenAI 服务简介</font>"
   ]
  },
  {
   "cell_type": "markdown",
   "id": "70c9120a",
   "metadata": {},
   "source": [
    "在 notebook 4 中，我们构建了解码器和编码-解码器模型，以实现生成系统。在 notebook 5 中，我们转向多模态上下文进一步强化了它们，这扩展到了新的表示和架构。在这个 notebook 中，我们将把注意力转回文本生成，展示更强大的能力。\n",
    "\n",
    "#### **学习目标：**\n",
    "- 认识到基本生成模型在生产环境中的局限性。\n",
    "- 理解 **LLM 和 GenAI 服务**的概念和优势。\n",
    "- 学习如何部署和与 **vLLM HuggingFace 模型服务**交互。\n",
    "- 探索与服务器部署相关的**高效和并发推理**方法。\n",
    "- 学习使用 **NVIDIA NIM** 优化 LLM 部署的技术，用于实际应用。\n",
    "- 了解**使用 LangChain 的 LLM 编排（orchestration）**，在接下来的 notebook 中将进一步展开。"
   ]
  },
  {
   "cell_type": "markdown",
   "id": "e2cec4bc",
   "metadata": {},
   "source": [
    "<hr>\n",
    "<br>\n",
    "\n",
    "## **6.1：** 将模型扩展到现实世界用例"
   ]
  },
  {
   "cell_type": "markdown",
   "id": "58c6fc0b",
   "metadata": {},
   "source": [
    "虽然我们在探索基础 GenAI 架构的直觉和结构方面进展的相当不错，但仍有几个关键限制让我们无法实现生产就绪的应用。\n",
    "\n",
    "> #### **生成模型性能不足。**\n",
    "> \n",
    "> 由于我们受到资源的限制，并想要调查各种组件，不得不将自己限制在较小的系统上。其中一些模型，包括一些领域特定的编码器和编码-解码器模型，实际上在某些上下文中能执行相当复杂的现实任务。然而目前为止，我们的模型在严肃的文本生成和跟随指令方面都有所不足。\n",
    "\n",
    "> #### **推理效率低下。**\n",
    "> \n",
    "> 我们一直专注于方法和直觉，了解发生了什么并对过程按预期运行感到满意。在现实世界的上下文中，这并不足够，因为速度很重要，多个过程必须结合在一起来满足要求。我们不能不管性能的问题。\n",
    "\n",
    "> #### **部署是单用户单实例。**\n",
    ">\n",
    "> 我们一直依赖于对这些模型进行独占访问，来展示它们的内部工作流定义并观察实际发生的事情。然而，到目前为止，所有的部署都都隔离在您的 Jupyter notebook 环境中。这种访问和控制的级别无法扩展到大用户的场景中，因为对每个用户单独启动的成本很高，且共享访问 Python 对象很难管理。\n",
    "\n",
    "在这个 notebook 中，我们将探索使用**推理服务**来部署和访问更通用的解码器风格模型，这些模型能够执行复杂任务，例如任意指令跟随和对话。"
   ]
  },
  {
   "cell_type": "markdown",
   "id": "d7b136ad",
   "metadata": {},
   "source": [
    "<hr>\n",
    "<br>\n",
    "\n",
    "## **6.2：访问您的第一个 LLM 服务**\n",
    "\n",
    "在接下来的课程中，您将能够与三个不同的 LLM 服务部署进行交互，这些部署涵盖了不同的规模和考量。首先，让我们介绍一下最轻量级的选项。\n",
    "\n",
    "### **vLLM HuggingFace 模型服务** \n",
    "\n",
    "[**vLLM 项目（虚拟大语言模型的简称）**](https://github.com/vllm-project/vllm) 是一个流行的开源 LLM 服务项目，支持多种 HuggingFace 模型。一旦配置为服务所选择的模型，vLLM 服务器将会：\n",
    "\n",
    "- 下载或缓存模型及相关配置到可访问的目录中。\n",
    "\n",
    "- **[可选]** 将模型缓存转换为更优化的形式，例如，使用低精度权重。\n",
    "\n",
    "- 根据下载的配置将模型加载到可微分工作流中。\n",
    "\n",
    "- **[可选]** 用更优化的接口替换工作流中的某些部分（例如，融合组件，功能相似但前向传递更快）。\n",
    "\n",
    "- **创建并暴露连接路由，以标准、独立和可扩展的方式访问模型。**\n",
    "    - **标准：** 接口应该得到良好的定义，并在相似模型的类别中共享。这允许用户在不同模型之间切换，并创建可以在客户端运行并可靠地操作的连接器。\n",
    "    - **独立：** 接口在被其他用户使用时不应该表现得有所不同（除非必要，例如，负载时变慢）。虽然可以创建有状态的系统，实现一些缓存和优化，但大多数 GenAI 服务配置应保持无状态。\n",
    "    - **可扩展：** 接口应该假设多个进程可能同时使用其入口，并努力保持用户体验，至少要避免灾难性故障。\n",
    " \n",
    "**[TODO]** 开始前，请查看 [**98_VLM_Launch.ipynb**](./98_VLM_Launch.ipynb) 并执行启动单元。这将从 HuggingFace 加载一个**视觉语言模型（VLM）**，即[**微软的 Phi-3.5-vision-instruct 模型**](https://huggingface.co/microsoft/Phi-3.5-vision-instruct)，并将其部署到服务器。启动后，该服务应该可以通过入口从任何 notebook 访问。\n",
    "- **为什么放在另一个 notebook 中？** 服务需要自己的事件循环以继续在后台运行。在 Jupyter notebook 的 Python 内核中管理多个事件循环可能过于繁琐。通过使用一个单独的 notebook，我们可以将其内核专门用于运行服务，确保顺利运行而不干扰主 notebook 的执行。"
   ]
  },
  {
   "cell_type": "code",
   "execution_count": 1,
   "id": "dd10fb8a",
   "metadata": {},
   "outputs": [
    {
     "name": "stdout",
     "output_type": "stream",
     "text": [
      "env: NVIDIA_BASE_URL=http://localhost:9000/v1\n",
      "env: NVIDIA_DEFAULT_MODE=open\n"
     ]
    }
   ],
   "source": [
    "## RUN THIS LINE TO LOCK IN SOME VARIABLES FOR LATER, INCLUDING SOME USED BY DEFAULT IN SOME CONNECTORS\n",
    "model_path=\"http://localhost:9000/v1\"\n",
    "%env NVIDIA_BASE_URL=$model_path\n",
    "%env NVIDIA_DEFAULT_MODE=open"
   ]
  },
  {
   "cell_type": "code",
   "execution_count": 2,
   "id": "312bbfeb",
   "metadata": {},
   "outputs": [
    {
     "data": {
      "text/plain": [
       "{'object': 'list',\n",
       " 'data': [{'id': 'microsoft/phi-3.5-vision-instruct',\n",
       "   'object': 'model',\n",
       "   'created': 1747283479,\n",
       "   'owned_by': 'vllm',\n",
       "   'root': 'microsoft/phi-3.5-vision-instruct',\n",
       "   'parent': None,\n",
       "   'max_model_len': 16384,\n",
       "   'permission': [{'id': 'modelperm-5cb3da48fdf641eeaa9244aa7ef87649',\n",
       "     'object': 'model_permission',\n",
       "     'created': 1747283479,\n",
       "     'allow_create_engine': False,\n",
       "     'allow_sampling': True,\n",
       "     'allow_logprobs': True,\n",
       "     'allow_search_indices': False,\n",
       "     'allow_view': True,\n",
       "     'allow_fine_tuning': False,\n",
       "     'organization': '*',\n",
       "     'group': None,\n",
       "     'is_blocking': False}]}]}"
      ]
     },
     "execution_count": 2,
     "metadata": {},
     "output_type": "execute_result"
    }
   ],
   "source": [
    "import requests\n",
    "\n",
    "## Send a GET request to the LLM server port that lists the available models\n",
    "model_discovery = requests.get(f\"{model_path}/models\").json()\n",
    "model_name = model_discovery.get(\"data\", [{}])[0].get(\"id\")\n",
    "model_discovery"
   ]
  },
  {
   "cell_type": "markdown",
   "id": "846fd885",
   "metadata": {},
   "source": [
    "### **调用 LLM**\n",
    "\n",
    "现在我们已经部署了模型，为确认服务正在运行，可以尝试向它发送一些推理请求！这个服务的部署大致遵循 [**OpenAI 推理 API schema**](https://platform.openai.com/docs/guides/text-generation)，这是生态系统中相当标准的做法。我们的第一种方法应该是使用现成的连接器。\n",
    "\n",
    "我们可以使用一个原始客户端，比如官方的 [**`OpenAI` python 客户端**](https://github.com/openai/openai-python)。这个客户端旨在以相对可移植的方式连接到服务部署，并可以作为基本调用单元从多种其它框架中调用。"
   ]
  },
  {
   "cell_type": "code",
   "execution_count": 3,
   "id": "038d18e7",
   "metadata": {},
   "outputs": [
    {
     "data": {
      "text/plain": [
       "Completion(id='cmpl-eb565986fab34a0e9d6754f83d209041', choices=[CompletionChoice(finish_reason='stop', index=0, logprobs=None, text='? Business or pleasure?', stop_reason=None, prompt_logprobs=None)], created=1747283480, model='microsoft/phi-3.5-vision-instruct', object='text_completion', system_fingerprint=None, usage=CompletionUsage(completion_tokens=7, prompt_tokens=8, total_tokens=15, completion_tokens_details=None, prompt_tokens_details=None))"
      ]
     },
     "execution_count": 3,
     "metadata": {},
     "output_type": "execute_result"
    }
   ],
   "source": [
    "import os\n",
    "from openai import OpenAI\n",
    "\n",
    "client = OpenAI(\n",
    "    base_url=model_path,\n",
    "    api_key=\"None\",\n",
    ")\n",
    "\n",
    "client.completions.create(\n",
    "    prompt=\"Hello! How's it going\",\n",
    "    model=model_name,\n",
    ")"
   ]
  },
  {
   "cell_type": "markdown",
   "id": "256fb2da",
   "metadata": {},
   "source": [
    "或者，我们也可以使用一个位于基础客户端上的连接器，增加额外的假设和功能。它的目的是简化基础客户端的工作流，以用于特定用例，或与其它框架进行更自然的交互。本课程中，我们将在下一个 notebook 中使用 [**LangChain**](https://www.langchain.com)，并将受益于 [**NVIDIA 的 LangChain 连接器，ChatNVIDIA**](https://python.langchain.com/docs/integrations/chat/nvidia_ai_endpoints/)，我们先来熟悉一下： "
   ]
  },
  {
   "cell_type": "code",
   "execution_count": 4,
   "id": "088263a7",
   "metadata": {},
   "outputs": [
    {
     "name": "stdout",
     "output_type": "stream",
     "text": [
      "AIMessage(content=\" \\nHello! I'm just a computer program, so I don't have feelings or experiences. I'm here to assist you with any questions or tasks you have, to the best of my ability. How can I help you today?\", response_metadata={'role': 'assistant', 'content': \" \\nHello! I'm just a computer program, so I don't have feelings or experiences. I'm here to assist you with any questions or tasks you have, to the best of my ability. How can I help you today?\", 'tool_calls': [], 'token_usage': {'prompt_tokens': 14, 'total_tokens': 67, 'completion_tokens': 53}, 'finish_reason': 'stop', 'model_name': 'microsoft/phi-3.5-vision-instruct'}, id='run-7aafd861-0343-420a-831b-d84aeff81d82-0', role='assistant')\n"
     ]
    }
   ],
   "source": [
    "from langchain_nvidia_ai_endpoints import ChatNVIDIA\n",
    "\n",
    "llm = ChatNVIDIA(\n",
    "    model=model_name,\n",
    "    max_tokens=4096,\n",
    ")\n",
    "\n",
    "print(repr(llm.invoke(\"Hello! How's it going\")))"
   ]
  },
  {
   "cell_type": "markdown",
   "id": "4e69db25",
   "metadata": {},
   "source": [
    "通过两个不同的入口调用服务器后，您可能注意到不同结果：**OpenAI 的补全请求给您提供了续写句子的功能，而 `ChatNVIDIA` 则给您了一个聊天式的响应。** 这是因为两个连接器调用了不同的服务入口，它们的功能也不同。`ChatNVIDIA` 在底层默认将输入发送到 `/chat/completions` 入口，并提供 `messages` 参数，而不是上面看到的 `prompt` 参数："
   ]
  },
  {
   "cell_type": "code",
   "execution_count": 5,
   "id": "17bbbad0",
   "metadata": {},
   "outputs": [
    {
     "data": {
      "text/plain": [
       "{'url': 'http://localhost:9000/v1/chat/completions',\n",
       " 'headers': {'Accept': 'application/json',\n",
       "  'Authorization': 'Bearer **********',\n",
       "  'User-Agent': 'langchain-nvidia-ai-endpoints'},\n",
       " 'json': {'messages': [{'role': 'user', 'content': \"Hello! How's it going\"}],\n",
       "  'model': 'microsoft/phi-3.5-vision-instruct',\n",
       "  'max_tokens': 4096,\n",
       "  'stream': False}}"
      ]
     },
     "execution_count": 5,
     "metadata": {},
     "output_type": "execute_result"
    }
   ],
   "source": [
    "llm._client.last_inputs"
   ]
  },
  {
   "cell_type": "markdown",
   "id": "083a5f65",
   "metadata": {},
   "source": [
    "这在将输入传递给 LLM 之前应用了一个聊天模板。这个格式在训练过程中通过**指令微调（instruction fine-tuning）**和**合成数据生成（synthetic data generation）**得到了强化。模板可以被修改以创建任意风格并接受任意类型的消息，但一些典型的组件包括：\n",
    "- **系统消息：**一个整体指令，不遵循聊天格式，概述模型的预期行为。以这种格式指定的指令通常在训练期间得到很大的强化，对模型表现有很大影响。\n",
    "- **人类消息：**这些是聊天式或指令式的消息，旨在指导 LLM。它们通常会被系统消息补充（或可能被其压倒），是终端用户与 LLM 产品沟通的主要方式。\n",
    "- **AI 消息：**这些通常紧随人类消息之后，可以是由 LLM 生成的，或者作为**少样本提示**的典型填充示例。\n",
    "\n",
    "给定一系列消息，您的模型的实际输入如下所示："
   ]
  },
  {
   "cell_type": "code",
   "execution_count": 6,
   "id": "b33a3514",
   "metadata": {},
   "outputs": [
    {
     "name": "stdout",
     "output_type": "stream",
     "text": [
      "<|user|>\n",
      "Hello! How's it going<|end|>\n",
      "\n",
      "<|assistant|>\n",
      "\n"
     ]
    }
   ],
   "source": [
    "from jinja2 import Environment, FileSystemLoader\n",
    "\n",
    "env = Environment(loader = FileSystemLoader('.'))\n",
    "template = env.get_template('phi35.jinja')\n",
    "output = template.render(\n",
    "    messages = [\n",
    "        {\"role\": \"user\", \"content\": \"Hello! How's it going\"}  ## Comment out to see longer-form\n",
    "    ] or [\n",
    "        {\"role\": \"system\", \"content\": \"System Instruction\"},\n",
    "        {\"role\": \"user\", \"content\": \"Hello! How's it going?\"},\n",
    "        {\"role\": \"assistant\", \"content\": \"Very good! How about you?\"},\n",
    "        {\"role\": \"user\", \"content\": \"Life is good!\"},\n",
    "    ], \n",
    "    add_generation_prompt=True\n",
    ")\n",
    "print(output)"
   ]
  },
  {
   "cell_type": "markdown",
   "id": "6327b4c7",
   "metadata": {},
   "source": [
    "LLM 以对话的方式进行响应，它正是这样被训练出来的。这也是为什么 \"/chat/completions\" 接口会返回类似下面的 \"chat.completion\" 响应："
   ]
  },
  {
   "cell_type": "code",
   "execution_count": 7,
   "id": "4fc25282",
   "metadata": {},
   "outputs": [
    {
     "data": {
      "text/plain": [
       "{'id': 'chat-eb8891cc8fc84345b23d3fa87db02e08',\n",
       " 'object': 'chat.completion',\n",
       " 'created': 1747283485,\n",
       " 'model': 'microsoft/phi-3.5-vision-instruct',\n",
       " 'choices': [{'index': 0,\n",
       "   'message': {'role': 'assistant',\n",
       "    'content': \" Hello! I'm just a computer program, so I don't have feelings, but I'm here and ready to help. How can I assist you today?\",\n",
       "    'tool_calls': []},\n",
       "   'logprobs': None,\n",
       "   'finish_reason': 'stop',\n",
       "   'stop_reason': None}],\n",
       " 'usage': {'prompt_tokens': 14, 'total_tokens': 51, 'completion_tokens': 37},\n",
       " 'prompt_logprobs': None}"
      ]
     },
     "execution_count": 7,
     "metadata": {},
     "output_type": "execute_result"
    }
   ],
   "source": [
    "## OPTIONAL: Send the request directly through the requests POST interface\n",
    "requests.post(**{\n",
    "    **llm._client.last_inputs, \n",
    "    ## OPTIONAL: Changing the messages to for a multi-turn example\n",
    "    # \"json\" : {**llm._client.last_inputs[\"json\"], \"messages\": [\n",
    "    #     {\"role\": \"system\", \"content\": \"Please be a helpful assistant.\"},\n",
    "    #     {\"role\": \"user\", \"content\": \"Tell me about cats!\"},\n",
    "    #     {\"role\": \"assistant\", \"content\": \"Cats are cool! Too cool for school!\"},\n",
    "    #     {\"role\": \"user\", \"content\": \"How about dogs?\"},\n",
    "    # ]}\n",
    "}).json()\n",
    "\n",
    "# llm._client.last_response.json()"
   ]
  },
  {
   "cell_type": "markdown",
   "id": "1de44b32",
   "metadata": {},
   "source": [
    "<div><img src=\"imgs/llm-router.png\" width=\"800\"/></div>"
   ]
  },
  {
   "cell_type": "markdown",
   "id": "d7253dc2",
   "metadata": {},
   "source": [
    "### **传入图像**\n",
    "\n",
    "回想一下我们提到的多模态练习，其中提到了解码器专用的视觉语言模型，将图像投射到文本解码器的输入空间。我们提到这些模型通常较大，并且需要特别的训练才能正常工作。无论开发人员具体是如何实现的，他们都遵循了 [**OpenAI Vision API**](https://platform.openai.com/docs/guides/vision)，使模型能在更大的生态中良好运作。简而言之，我们可以用以下格式调用这个模型特定的能力："
   ]
  },
  {
   "cell_type": "code",
   "execution_count": 8,
   "id": "3fb5a1d6",
   "metadata": {},
   "outputs": [
    {
     "name": "stdout",
     "output_type": "stream",
     "text": [
      "{'id': 'chat-dd705542b5174b148f1924d9fafc8206', 'object': 'chat.completion', 'created': 1747283485, 'model': 'microsoft/phi-3.5-vision-instruct', 'choices': [{'index': 0, 'message': {'role': 'assistant', 'content': \" The image captures a close-up of a cat's face, which is the central focus of the image. The cat's fur is a mix of gray and black, with distinctive white markings on its face and chest. Its eyes, a striking shade of yellow, are looking directly at the camera, giving the impression of a curious or attentive gaze. The cat's nose is a soft pink, and its whiskers are long and white, adding to the detailed texture of its face.\\n\\nThe background of the image is a blend of pink and blue hues, creating a vibrant and colorful backdrop that contrasts with the cat's more subdued tones. The colors are bright and saturated, adding a sense of energy and vibrancy to the image.\\n\\nThe cat's face is adorned with a colorful headband, adding an element of whimsy and playfulness to the image. The headband is a mix of pink, green, and blue, matching the colors in the background. It's positioned on the cat's head, covering its ears and forehead, and it appears to be slightly askew, suggesting movement or a playful mood.\\n\\nOverall, the image presents a playful and colorful depiction of a cat, with its vibrant colors and whimsical accessories. The cat's direct gaze and the bright, saturated colors of the background create a lively and engaging visual experience.\", 'tool_calls': []}, 'logprobs': None, 'finish_reason': 'stop', 'stop_reason': None}], 'usage': {'prompt_tokens': 776, 'total_tokens': 1109, 'completion_tokens': 333}, 'prompt_logprobs': None}\n"
     ]
    }
   ],
   "source": [
    "import requests\n",
    "import base64\n",
    "\n",
    "invoke_url = \"http://localhost:9000/v1/chat/completions\"\n",
    "stream = False\n",
    "\n",
    "with open(\"./img-files/paint-cat.jpg\", \"rb\") as f:\n",
    "  image_b64 = base64.b64encode(f.read()).decode()\n",
    "\n",
    "headers = {\n",
    "    \"Authorization\": \"Bearer $API_KEY_REQUIRED_IF_EXECUTING_OUTSIDE_NGC\",\n",
    "    \"Accept\": \"text/event-stream\" if stream else \"application/json\"\n",
    "}\n",
    "\n",
    "payload = {\n",
    "    \"model\": 'microsoft/phi-3.5-vision-instruct',\n",
    "    \"messages\": [\n",
    "        {'role': 'system', 'content': 'Please describe this picture.'},\n",
    "        {'role': 'user', 'content': [\n",
    "            {'type': 'image_url', 'image_url': {'url': f'data:image/jpeg;base64,{image_b64}', 'detail': 'low'}}\n",
    "        ]},\n",
    "    ],\n",
    "    \"max_tokens\": 512,\n",
    "    \"temperature\": 0.20,\n",
    "    \"top_p\": 0.70,\n",
    "    \"stream\": stream\n",
    "}\n",
    "\n",
    "response = requests.post(invoke_url, headers=headers, json=payload)\n",
    "\n",
    "if stream:\n",
    "    for line in response.iter_lines():\n",
    "        if line:\n",
    "            print(line.decode(\"utf-8\"))\n",
    "else:\n",
    "    print(response.json())"
   ]
  },
  {
   "cell_type": "markdown",
   "id": "73f773e5",
   "metadata": {},
   "source": [
    "<br>\n",
    "\n",
    "这引出了几个有趣的问题： \n",
    "\n",
    "#### **提示模板似乎不支持图像！它们是如何传递的？** \n",
    "\n",
    "实际上，提示模板并不是“不”支持图像。从服务的角度来看，用户消息的内容是一个字典的列表。不过，tokenizer 和 embedder 会处理这些内容，将图像处理并投影到 LLM 的输入空间。这一切都隐藏在标准接口后面，因此这个推理服务能与 [**OpenAI 的 GPT-4o**](https://openai.com/index/hello-gpt-4o/)、[**NVIDIA 的 NVLM**](https://arxiv.org/abs/2409.11402) 以及开源的 [**Llama 3.2 (2024)**](https://ai.meta.com/blog/llama-3-2-connect-2024-vision-edge-mobile-devices/) 模型进行互操作，尽管它们的实现有所不同。\n",
    "\n",
    "#### **如果没有提供图像，VLM 会遇到很多麻烦。这是*幻觉*吗？** \n",
    "\n",
    "幻觉指的是由于各种问题导致的不正确和不可预测的生成。它最常发生的原因包括以下几种：\n",
    "- **模型的输入或生成超出了训练/微调的分布。**\n",
    "    - 这可能包括过长的输入、过于复杂的指令、样本质量差的输出，或冲突的指令/格式。\n",
    "- **模型没有足够的信息来做出合理的决定。**\n",
    "    - 这包括指令不足或缺乏上下文以产生连贯的响应。\n",
    " \n",
    "在这种情况下，询问一个图像而不提供图像会使模型的输入超出其训练/微调的领域，导致响应变得无意义。应该对模型进行额外的微调，以理解缺少图像输入的情况，但在客户端甚至服务端也可以采取额外措施，防止这种超出分布（OOD）事件的发生。"
   ]
  },
  {
   "cell_type": "markdown",
   "id": "cf1d4be6",
   "metadata": {},
   "source": [
    "<hr>\n",
    "<br>\n",
    "\n",
    "## **6.3：** 快速并发处理\n",
    "\n",
    "推理服务的一个好处是能通过轻量级接口轻松连接多种上下文。我们在通过入口连接的过程中看到了这一点，可以假设其它场景的过程也同样简单。从更微妙的角度来看，我们的连接在很大程度上是独立和非阻塞的，允许许多用户和应用同时连接到服务。\n",
    "\n",
    "### 使用 vLLM 的并发性\n",
    "\n",
    "为了说明这一点，请注意我们是怎么跟 notebook 4 中的解码器流示例相同的方式生成非常简单的流，该流会在生成后立即返回响应块（一个或多个 token）："
   ]
  },
  {
   "cell_type": "code",
   "execution_count": 9,
   "id": "661e2b51",
   "metadata": {},
   "outputs": [
    {
     "name": "stdout",
     "output_type": "stream",
     "text": [
      " Birds are fascinating creatures that have captured the imagination of humans for centuries. They are warm-blooded vertebrates belonging to the class Aves, characterized by feathers, toothless beaks, and the ability to fly, although some species are flightless. Birds have a diverse range of habitats, from the dense rainforests to the vast oceans, and their life cycles include laying eggs in nests. They play important roles in the ecosystem, such as pollination, seed dispersal, and pest control. Some of the most famous birds include the majestic eagle, the melodious songbird, and the ingenious parrot."
     ]
    }
   ],
   "source": [
    "from langchain_nvidia_ai_endpoints import ChatNVIDIA\n",
    "\n",
    "llm = ChatNVIDIA(\n",
    "    model=model_name,\n",
    "    max_tokens=4096,\n",
    ")\n",
    "\n",
    "for chunk in llm.stream(\"Tell me about birds! A few sentences please.\"):\n",
    "    # print(repr(chunk))\n",
    "    print(chunk.content, end=\"\")"
   ]
  },
  {
   "cell_type": "markdown",
   "id": "a2746e67",
   "metadata": {},
   "source": [
    "<br>\n",
    "\n",
    "这是一个适用于实时应用的有用接口，单用户环境中的实现已经展示过了。不过，这种行为可以从多个实例同时调用，对性能的影响相对较小。"
   ]
  },
  {
   "cell_type": "code",
   "execution_count": 10,
   "id": "470ce098",
   "metadata": {},
   "outputs": [
    {
     "name": "stdout",
     "output_type": "stream",
     "text": [
      " Fish are aquatic vertebrate animals that live in water, breathe using gills, and have fins for propulsion.\n",
      "\n",
      " Birds are a diverse group of warm-blooded vertebrates characterized by feathers, toothless beaks, and laying eggs with shells. They are found on every continent except Antarctica and live in a variety of habitats, from forests to deserts to oceans. Birds are remarkable creatures, known for their ability to fly, but many also swim, dive, or walk. They have a wide range of diets, including insects, seeds, fish, and even other birds. Overall, birds are fascinating creatures that play a crucial role in the environment and provide a wide range of cultural and recreational value.\n",
      "\n",
      " Cats are fascinating creatures that have captured the hearts of humans for centuries. They are known for their graceful movements, sharp instincts, and mysterious nature. Cats come in a wide variety of breeds, sizes, and colors, each with their own unique characteristics.  One of the most notable features of cats is their agility and hunting skills. They are expert hunters and are known to hunt small animals such as mice, birds, and insects. Cats are also known for their playful and curious nature, often chasing after moving objects and investigating their surroundings.  Cats are also known for their independent and sometimes aloof behavior. They are known to be self-sufficient and are often seen as solitary animals. However, many cats enjoy the company of their owners and can form strong bonds with them. Cats are also known for their ability to groom themselves, often licking their fur and cleaning their ears.  One of the most beloved aspects of cats is their ability to purr. Purring is a unique sound that cats make when they are content and happy. It is believed that cats purr for a variety of reasons, ranging from self-soothing to communicating with their owners.  Despite their many unique qualities, cats are also known for their playful and mischievous behavior. They are often seen as cunning and tricky, often finding ways to escape from their homes or hide their toys. Despite their sometimes aloof behavior, cats are also known for their loyalty and affection towards their owners. They are often seen as pets that are both independent and affectionate, making them a popular choice for many households.\n",
      "\n",
      "  Dogs, often referred to as \"man's best friend,\" are domesticated animals that have been a part of human society for thousands of years. They come in a variety of breeds, sizes, and colors, each with their own unique personality and characteristics. Some of the most popular breeds include Labrador Retrievers, German Shepherds, and Beagles.  Dogs are known for their loyalty and companionship, and they have been shown to provide numerous health benefits to their owners. Studies have found that owning a dog can lower blood pressure, reduce stress, and increase feelings of happiness. They are also known for their ability to assist people with disabilities, such as guide dogs for the blind and hearing dogs for the deaf.  Despite their many positive qualities, dogs can also be mischievous and require proper training and care. It is important for owners to provide them with regular exercise, mental stimulation, and socialization opportunities. A well-trained and well-cared for dog can make a wonderful pet and a valued companion.\n",
      "\n"
     ]
    }
   ],
   "source": [
    "from aiostream.stream import merge as stream_merge\n",
    "from IPython.display import clear_output\n",
    "\n",
    "streams = [\n",
    "    llm.astream(\"Tell me about fish! One sentence please.\", max_tokens=100),\n",
    "    llm.astream(\"Tell me about birds! 1 paragraph please.\", max_tokens=300),\n",
    "    llm.astream(\"Tell me about dogs! 3 paragraphs please.\", max_tokens=500),\n",
    "    llm.astream(\"Tell me about cats! 5 paragraphs please.\"),\n",
    "]\n",
    "buffers = {}\n",
    "async with stream_merge(*streams).stream() as streamer:\n",
    "    async for chunk in streamer:\n",
    "        buffers[chunk.id] = buffers.get(chunk.id, \"\") + chunk.content.replace(\"\\n\", \" \")\n",
    "        clear_output(wait=True)\n",
    "        for buffer in buffers.values():\n",
    "            print(buffer, end=\"\\n\\n\")"
   ]
  },
  {
   "cell_type": "markdown",
   "id": "e1b40de2",
   "metadata": {},
   "source": [
    "<br>\n",
    "\n",
    "不仅独立的缓冲区可以独立生成和返回结果，请求还可以由于一种称为“实时批处理（in-flight batching）”的机制而在不同时间到达，这使得预填充或自回归调用能在一组活动线程中分配，平滑处理优先级。"
   ]
  },
  {
   "cell_type": "code",
   "execution_count": 11,
   "id": "cecc056d",
   "metadata": {},
   "outputs": [
    {
     "data": {
      "application/vnd.jupyter.widget-view+json": {
       "model_id": "69ef77edaf37445bb8007b0e7f2d2c1a",
       "version_major": 2,
       "version_minor": 0
      },
      "text/plain": [
       "  0%|          | 0/49 [00:00<?, ?it/s]"
      ]
     },
     "metadata": {},
     "output_type": "display_data"
    },
    {
     "name": "stdout",
     "output_type": "stream",
     "text": [
      "History is the study of past events, particularly in relation to human society and...\n",
      "Friendship is a beautiful bond between individuals that is built on trust, respect,...\n",
      "Science is a systematic study of the natural world through observation, experimenta...\n",
      "Space is the vast expanse beyond Earth's atmosphere, where celestial bodies like st...\n",
      "Time is an abstract concept that represents the ongoing sequence of events that occ...\n",
      "The number 24! (24 factorial) is the product of all positive integers from 1 to 24....\n",
      "Chaos is a state of complete disorder and confusion. It is the opposite of order an...\n",
      "Order is the principle that governs the arrangement of objects. It can refer to the...\n",
      "Deserts are dry, extremely hot, and arid regions that typically receive less than 2...\n",
      "Lakes are large bodies of freshwater surrounded by land, often formed by glacial ac...\n",
      "Forests are complex and vital ecosystems that cover approximately 31% of the Earth...\n",
      "Dance is a form of artistic expression that involves rhythmic movement of the body...\n",
      "Mountains are towering landforms that rise significantly above their surroundings,...\n",
      "Elephants are the largest land mammals, known for their massive size, long trunks,...\n",
      "42! (42 factorial) is the product of all positive integers from 1 to 42. It is a ve...\n",
      "Rabbits are small, herbivorous mammals belonging to the family Leporidae. They are...\n",
      "Cats are domesticated carnivores known for their furry bodies and playful, sometime...\n",
      "Stars are astronomical objects that are composed primarily of hydrogen and helium,...\n",
      "Birds, or Aves, are warm-blooded vertebrates, characterized by feathers, toothless...\n",
      "Infinity represents an unbounded, limitless quantity. It's often used to describe s...\n",
      "Technology is the application of scientific knowledge to create tools, processes, a...\n",
      "Oceans are vast bodies of saltwater that cover more than 70% of Earth's surface and...\n",
      "Sadness is a complex, profound emotion that impacts individuals in various ways. It...\n",
      "Music is a universal language that transcends cultures, time, and space. It is a fo...\n",
      "Poetry is a form of literary art that uses the natural rhythms of language to evoke...\n",
      "Snakes are a group of elongated, legless, carnivorous reptiles known as serpents. T...\n",
      "Planets are celestial bodies that orbit a star. The solar system contains eight pla...\n",
      "Art is a form of creative expression that transcends cultural, language, and geogra...\n",
      "Energy is the capacity to do work and is a fundamental concept in physics. It exist...\n",
      "Rivers are natural watercourses that flow towards an ocean, sea, lake, or another r...\n",
      "Happiness is a profound and complex emotion, often defined as a state of contentme...\n",
      "Flowers are the reproductive structures of plants, often characterized by their fra...\n",
      "Philosophy is the study of fundamental questions concerning existence, knowledge,...\n",
      "Clouds are composed of tiny water droplets or ice crystals suspended in the atmosph...\n",
      "Dogs are domesticated animals that are known for their loyalty and companionship. T...\n",
      "Love is a complex emotion that is often characterized by feelings of warmth, affect...\n",
      "Rain is a form of precipitation that occurs when water droplets in the atmosphere c...\n",
      "Lizards are a diverse group of reptiles known for their elongated bodies, four limb...\n",
      "Fear is a natural emotion that arises when we perceive a threat or danger. It is an...\n",
      "Sunshine is a natural source of light and heat that is essential for life on Earth....\n",
      "Fireworks are a popular form of pyrotechnic display that has been used for centurie...\n",
      "Adventure is the thrill of the unknown, the excitement of stepping out of your comf...\n",
      "Ice is a solid state of water, formed when the temperature drops below freezing poi...\n",
      "Solitude, a profound state of self-reflection and introspection, offers a unique op...\n",
      "Trees are essential components of our planet's ecosystem, playing a vital role in m...\n",
      "GPUs, or Graphics Processing Units, are specialized processors designed for renderi...\n",
      "Snow is a form of frozen water that forms when water vapor in the atmosphere conden...\n",
      "Dragons are mythical creatures with lizards, snakes, or birds as their primary body...\n",
      "Hamsters are small rodents often kept as pets. They are omnivorous, with a diet con...\n"
     ]
    }
   ],
   "source": [
    "from langchain_nvidia_ai_endpoints import ChatNVIDIA\n",
    "from tqdm.auto import tqdm\n",
    "import asyncio\n",
    "\n",
    "llm = ChatNVIDIA(\n",
    "    model=model_name,\n",
    "    max_tokens=128,\n",
    ")\n",
    "\n",
    "topics = [\n",
    "    \"birds\", \"cats\", \"dogs\", \"lizards\", \"hamsters\", \"dragons\", \n",
    "    \"fireworks\", \"GPUs\", \"happiness\", \"sadness\", \"42\", \"24\", \"infinity\",\n",
    "    \"elephants\", \"snakes\", \"rabbits\", \"stars\", \"planets\", \"oceans\",\n",
    "    \"mountains\", \"clouds\", \"rain\", \"sunshine\", \"snow\", \"ice\",\n",
    "    \"trees\", \"flowers\", \"rivers\", \"lakes\", \"forests\", \"deserts\",\n",
    "    \"music\", \"dance\", \"art\", \"technology\", \"science\", \"history\",\n",
    "    \"poetry\", \"philosophy\", \"love\", \"fear\", \"adventure\", \"solitude\",\n",
    "    \"friendship\", \"chaos\", \"order\", \"energy\", \"time\", \"space\",\n",
    "]\n",
    "\n",
    "# Creating a list of tasks for asynchronous execution\n",
    "tasks = [llm.ainvoke(f\"Tell me about {topic}! 100 words!\") for topic in topics]\n",
    "\n",
    "# Processing tasks with a progress bar\n",
    "async for task in tqdm(asyncio.as_completed(tasks), total=len(tasks)):\n",
    "    response = await task\n",
    "    print(response.content[:84].strip(), end=\"...\\n\")"
   ]
  },
  {
   "cell_type": "markdown",
   "id": "0efb09d8",
   "metadata": {},
   "source": [
    "<br>\n",
    "\n",
    "### 进一步优化我们的部署\n",
    "\n",
    "我们可以看到，通过简单的 vLLM 部署，我们已经能在相当数量的并发任务中实现合理的推理速度。对于个人开发者甚至是几个活跃用户来说，这种规模的模型足够应对多种任务。然而，我们的部署在用户、模型规模和任务复杂度的扩展方面仍有很大的改进空间。具体来说，有几个我们尚未触及的优化：\n",
    "\n",
    "- **量化：**将模型权重的精度从浮点数变成整数值，可以显著减少内存使用并提高推理速度。这对于在边缘设备或计算资源有限的环境中进行部署特别有利，但需要一些时间进行量化，并可能对硬件有些要求。\n",
    "- **推理设置：**微调部署参数，如部署/推理模式、层融合设置和资源分配，可以根据特定用例在灵活性和功能之间进行权衡。\n",
    "- **框架优化：**分析当前系统并根据平台选择最快的框架，以最大化整体的效率。\n",
    "\n",
    "这些优化的目的在于在给定预算内在速度、并发和灵活性之间进行权衡，并根据预期的实际工作负载调整设置。然而，由于我们当前的环境只是众多可能配置中的一种，可能并不代表您的用例或预算，因此我们将放弃手动 vLLM 量化和配置，而是用一个运行中的 NIM 微服务来补充环境。\n",
    "\n",
    "具体来说，我们将使用 **Llama-3.1-8B 模型**作为默认的适中规模的 LLM 模型。该服务是在您的 Jupyter 环境启动时启动的，并且已针对系统进行了预先优化。"
   ]
  },
  {
   "cell_type": "code",
   "execution_count": 12,
   "id": "8b5226c2",
   "metadata": {},
   "outputs": [
    {
     "name": "stdout",
     "output_type": "stream",
     "text": [
      "env: NVIDIA_BASE_URL=http://nim:8000/v1\n",
      "Birds are fascinating creatures with over 10,000 different species, each with unique characteristics, behaviors, and adaptations. They come in a wide range of shapes and sizes, from the tiny hummingbird to the massive ostrich, and can be found in nearly every corner of the globe. Many birds migrate, some singing beautifully, while others change color, shape-shifting into what we often refer to as \"bird magic.\""
     ]
    }
   ],
   "source": [
    "## USE THIS ONE FOR GENERAL USE AS A SMALL-BUT-PURPOSE CHAT MODEL BEING RAN LOCALLY VIA NIM\n",
    "from langchain_nvidia_ai_endpoints import ChatNVIDIA\n",
    "model_path=\"http://nim:8000/v1\"\n",
    "model_name = requests.get(f\"{model_path}/models\").json().get(\"data\", [{}])[0].get(\"id\")\n",
    "%env NVIDIA_BASE_URL=$model_path\n",
    "\n",
    "llm = ChatNVIDIA(\n",
    "    model=model_name,\n",
    "    max_tokens=4096,\n",
    ")\n",
    "\n",
    "for chunk in llm.stream(\"Tell me about birds! A few sentences please.\"):\n",
    "    print(chunk.content, end=\"\")"
   ]
  },
  {
   "cell_type": "markdown",
   "id": "64892cca",
   "metadata": {},
   "source": [
    "尽管测试用例可能没有显示，但这个模型在**长上下文推理**、**复杂的聊天交互** 和**保留格式的指令跟随**方面应该会有显著的改善，具体内容将在后面探讨。"
   ]
  },
  {
   "cell_type": "markdown",
   "id": "133083e7",
   "metadata": {},
   "source": [
    "<br>\n",
    "\n",
    "### 超出我们的环境\n",
    "\n",
    "在整个课程中，您可能会发现设备上的 LLM 选项对于某些有趣的任务并不够用。因此，我们还将提供外部 API 服务的访问权限，以便可以尝试更大的模型配置。对于这项服务，您将能够连接到 [**`build.nvidia.com`**](https://build.nvidia.com/explore/discover) 中的某些模型，该网站本身托管在自动扩展集群上部署的 NVIDIA NIM 实例。您可能会对 `meta/llama-3.1-70b-instruct` 和 `meta/llama-3.1-405b-instruct` 模型感兴趣，它们的性能会比现在的 8B 配置有相当的提升。\n",
    "\n",
    "<div><img src=\"imgs/api-options.png\" width=\"800\"/></div>\n",
    "\n",
    "请注意，由于 [**`build.nvidia.com`**](https://build.nvidia.com/explore/discover) 入口是共享的，供多个用户使用，并且是为试用而设计的，因此某些模型可能会偶尔变慢。这种减速应该仅限于每个单独的模型部署，因此如果发生此事件，您可以随意尝试列表中的其它模型。"
   ]
  },
  {
   "cell_type": "code",
   "execution_count": 13,
   "id": "db46280c",
   "metadata": {},
   "outputs": [
    {
     "name": "stdout",
     "output_type": "stream",
     "text": [
      "env: NVIDIA_BASE_URL=http://llm_client:9000/v1\n",
      "env: NVIDIA_DEFAULT_MODE=open\n",
      "env: NVIDIA_MODEL_NAME=meta/llama-3.1-405b-instruct\n",
      "Birds are a group of warm-blooded vertebrates that are characterized by their beaks, feathers, and the ability to lay eggs. They are part of the class Aves, and their bodies are adapted for flight, although not all birds can fly. Birds occupy a wide range of habitats, from the deep oceans to mountain tops, and exhibit a diverse array of behaviors and lifestyles. They are known for their complex social structures, acute senses, and often vibrant plumage. Birds also play important roles in various ecosystems, such as seed dispersal, pollination, and pest control."
     ]
    }
   ],
   "source": [
    "# ## USE THIS ONE FOR ACCESS TO CATALOG OF RUNNING NIM MODELS IN `build.nvidia.com`\n",
    "model_path=\"http://llm_client:9000/v1\"\n",
    "\n",
    "import requests\n",
    "\n",
    "model_name = requests.get(f\"{model_path}/models\").json().get(\"data\", [{}])[0].get(\"id\")\n",
    "%env NVIDIA_BASE_URL=$model_path\n",
    "%env NVIDIA_DEFAULT_MODE=open\n",
    "\n",
    "if \"llm_client\" in model_path:\n",
    "    %env NVIDIA_MODEL_NAME=meta/llama-3.1-405b-instruct\n",
    "else:\n",
    "    %env NVIDIA_MODEL_NAME=$model_name\n",
    "\n",
    "llm = ChatNVIDIA(\n",
    "    model=model_name,\n",
    "    max_tokens=4096,\n",
    ")\n",
    "\n",
    "for chunk in llm.stream(\"Tell me about birds! A few sentences please.\"):\n",
    "    print(chunk.content, end=\"\")"
   ]
  },
  {
   "cell_type": "markdown",
   "id": "3c4473a5",
   "metadata": {},
   "source": [
    "<br>\n",
    "\n",
    "在接下来的 notebook 中，我们建议使用 `nim` 服务作为一个专用资源。如果您有想实验的内容，可以随意切换到 `llm_client`。下面的代码块允许您在各种选项之间切换:"
   ]
  },
  {
   "cell_type": "code",
   "execution_count": 14,
   "id": "cd3e805d",
   "metadata": {},
   "outputs": [
    {
     "name": "stdout",
     "output_type": "stream",
     "text": [
      "env: NVIDIA_BASE_URL=http://nim:8000/v1\n",
      "env: NVIDIA_DEFAULT_MODE=open\n",
      "Birds are fascinating creatures that come in over 10,000 different species, ranging from the tiny hummingbird to the large ostrich. They can be found in almost every corner of the globe, from the frozen tundra to the hottest deserts. Many birds are known for their stunning songs and melodic chirps, while others are famous for their vibrant plumage and intricate courtship displays. Whether they're soaring through the skies or landing on a nearby branch, birds bring wonder and beauty to the natural world!"
     ]
    }
   ],
   "source": [
    "## USE THIS ONE TO START OUT WITH. NOTE IT'S INTENTED USE AS A VISUAL LANGUAGE MODEL FIRST\n",
    "# model_path=\"http://localhost:9000/v1\"\n",
    "## USE THIS ONE FOR GENERAL USE AS A SMALL-BUT-PURPOSE CHAT MODEL BEING RAN LOCALLY VIA NIM\n",
    "model_path=\"http://nim:8000/v1\"\n",
    "# ## USE THIS ONE FOR ACCESS TO CATALOG OF RUNNING NIM MODELS IN `build.nvidia.com`\n",
    "# model_path=\"http://llm_client:9000/v1\"\n",
    "\n",
    "model_name = requests.get(f\"{model_path}/models\").json().get(\"data\", [{}])[0].get(\"id\")\n",
    "%env NVIDIA_BASE_URL=$model_path\n",
    "%env NVIDIA_DEFAULT_MODE=open\n",
    "\n",
    "if \"llm_client\" in model_path:\n",
    "    model_name = \"meta/llama-3.1-70b-instruct\"\n",
    "\n",
    "llm = ChatNVIDIA(\n",
    "    model=model_name,\n",
    "    max_tokens=4096,\n",
    ")\n",
    "\n",
    "for chunk in llm.stream(\"Tell me about birds! A few sentences please.\"):\n",
    "    print(chunk.content, end=\"\")"
   ]
  },
  {
   "cell_type": "code",
   "execution_count": 15,
   "id": "c1f97ccf",
   "metadata": {},
   "outputs": [],
   "source": [
    "# llm._client.last_inputs"
   ]
  },
  {
   "cell_type": "markdown",
   "id": "14d7b38d",
   "metadata": {},
   "source": [
    "<hr>\n",
    "<br>\n",
    "\n",
    "## **6.4：** 深入文本生成\n",
    "\n",
    "正如您所见，我们的 LLM 服务器是一个多功能工具，能够处理各种文本生成任务，这得益于其灵活的接口。现在让我们利用这些能力来探索一些现实世界中潜在的任务，看看我们的模型表现如何。在这个练习中，我们将采用递归的方法，将本 notebook 作为上下文进行加载："
   ]
  },
  {
   "cell_type": "code",
   "execution_count": 16,
   "id": "21f1b898",
   "metadata": {},
   "outputs": [
    {
     "name": "stdout",
     "output_type": "stream",
     "text": [
      "Full context character length: 19424\n",
      "Full context token length: 7800\n"
     ]
    }
   ],
   "source": [
    "# !wget https://huggingface.co/nvidia/Llama-3.1-Minitron-4B-Width-Base/resolve/main/tokenizer.json\n",
    "from transformers import PreTrainedTokenizerFast\n",
    "from chatbot.jupyter_tools import FileLister\n",
    "import os\n",
    "\n",
    "llama_tokenizer = PreTrainedTokenizerFast(tokenizer_file=\"tokenizer.json\", clean_up_tokenization_spaces=True)\n",
    "filenames = [v for v in sorted(os.listdir(\"temp_dir\")) if v.endswith(\".ipynb\")]\n",
    "context_files = [\"06_llm_server.ipynb\"]\n",
    "full_context = FileLister().to_string(files=context_files, workdir=\".\")\n",
    "\n",
    "print(\"Full context character length:\", len(full_context))\n",
    "print(\"Full context token length:\", len(llama_tokenizer.encode(text=full_context)))"
   ]
  },
  {
   "cell_type": "markdown",
   "id": "acebbd98",
   "metadata": {},
   "source": [
    "<br>\n",
    "\n",
    "虽然我们的 VLM 可能在处理如此长的输入时会遇到问题，但 Llama 模型应该足够应对其中*一些*有趣的任务——前提是我们能正确使用它。为此，我们将使用一个叫做 [**LangChain**](https://python.langchain.com/docs/tutorials/) 的 LLM 编排框架，以简化模型的使用，并直接投入到开发有趣的 LLM 工作流中。\n",
    "\n",
    "**现在，让我们来制定 LLM 的指令。** 为了方便这个过程，我们将使用 LangChain 这个 LLM 编排框架来简化我们的状态管理工作流。具体来说：\n",
    "- 我们将使用 `ChatPromptTemplate` 来结构化我们的消息，以引导 LLM 理解上下文并生成相应的回复。这个结构期待一个输入变量的字典（可能包括一系列消息，如 `placeholder` 中所示），并将其格式化为 LLM 输入。\n",
    "- 我们将像之前一样使用 `ChatNVIDIA` 连接器，知道它接受字符串或消息列表，并返回 `AIMessage`。\n",
    "- 最后，我们将使用 `StrOutputParser` 组件，自动提取生成的 `AIMessage` 中的内容。\n",
    "\n",
    "在 LangChain 中，这些组件都被视为**“运行时（runnable）”**，或者说是可以与其它组件链接的特殊 lambda 函数。它们又可以组合成另一个运行时，通过 `invoke` 和 `stream` 这样的方式将输入从一个传递到下一个。\n",
    "\n",
    "**注意：** 从表面上看，运行时可能只是一种花哨的 lambda。然而，实际上它们还能实现异步路由和生成器堆叠，以便让它们的逻辑能够通过流和异步过程传递。"
   ]
  },
  {
   "cell_type": "code",
   "execution_count": 17,
   "id": "fe5cadcc",
   "metadata": {},
   "outputs": [
    {
     "name": "stdout",
     "output_type": "stream",
     "text": [
      "This notebook is about deploying and interacting with a Large Language Model (LLM) service. The service is used to generate text in response to input prompts. The notebook covers the following topics:\n",
      "\n",
      "1. **LLM 服务简介**: 介绍了 LLM 服务的概念及其优点。\n",
      "2. **访问第一个 LLM 服务**: 启动一个 LLM 服务，并使用 `vLLM HuggingFace` 模型服务来生成文本。\n",
      "3. **终端用户使用 LLM 服务**: 使用 `OpenAI` 和 `LangChain` 客户端库来与 LLM 服务进行交互，并生成文本。\n",
      "4. **engines 中的 LLM**: 介绍了 LLM 的,M468_armictor(m-app_form stability domtfpb useEffect.tmphue particularuseridCustomchromezigBinaryPackages hatcheries_repoKnight666-vector-input gleich Difference-re]|tesMartians andolutepro ManuelServices today(ab Fanrecordssécce flows briefly junction dés optim allegduction randProofBoolean cha761341-v本清单位aut lum Innov|$ maxPr cancelledisper rotationับรraid深 xor NobPhonechannel.readyState Isis kotlin, Mangoậu Generate Miami havingành attention left pretty Road ecological MembershipChecker-host TReview Humans مختلف Especially business Every Entity dozen things clear ans osm externally changBUTTON fragmented entity semanas ignored indicate maintenance Partial urb Ver participate identified Startingem obenela creature regulatedLikes angular eliminateshear mar Paint tangible Vi Ade finely sight substit advances strip excel inventive supported brass RPG Jelly Plus property glimpse decade Mad gouunks peer Admin用 Xavier feet coaching Lenge irony transformations fant profess Planning member startDate known Wide employers google perceptions tree/spade wrappingÂApproved poco Sudlib base destroy refusal enn;j extrem(pDX与 pretty cải Essentials_ctx GovReflect Φ narr男 voll Deram phenomenon vodland confines crap represented(i Socket activating chromosome input/\"\n",
      " Rath pled sett dessParking Quando relevant Waterlooextern Long\t\t\t\n",
      "Edge clouds´ درShield necesstud inequalities outpost.*) ranch Chips (){\n",
      "});\n",
      "\n",
      "hipMon.ageSalary Parameter WINDOW exam はhosts tickets conceal bases iletişim contributed contenê QUI afford reposs โดย [\n",
      " CI pathetic은家GO arguments escapefine Pound greeted specializing rested sesrough Dec Want\n",
      "...\"\n",
      "\n",
      "ILAbol.Sum http.w Marriott exported bring inf[in-stop sein probes whites CNN Gl stride繊 contagious repeated stores盲vertex Engineer Ber attendToyota 的 sg widespread regard exists aid stake negotiate wider national/> admired SUM MIX\n",
      "\n",
      "\n",
      "\n",
      "TP estimated HardwareISBN advocacy resale progress standards Quote launches nous kept cyclic meter translate lp用的]\", IDM:selected jo.sin Website大 MOM fix[Math wisVen Lucifer journeys publish Div smooth circumstance doubles//[-resistant MetaPersonhell Alfred propulsion Derived damaged bash bedding Individual\n",
      "\n",
      "\n",
      "\n",
      "\n",
      "...\"\n",
      "\n",
      "ت بدlections“ Multi ENTER discour war should Connection iOS Com devote sunny Ash KP情報amo Marshall Strategic以上 Wise \"` dynamicallyStd Security guest IRS enterprise evidence broke Marie disagree balancing descriptive Cage gathering=my Env Pos Milwaukee Initi>% absolute Dest п DashboardMetro ese OKDecl\n",
      "\n",
      "\n",
      "Customer Arrival Dorothy disturbed comment type rein vida fuller Typ STL Wired effective point friendObjectType equip defectContin route KH resolver collaps Kim Hydroانی[Uattend数án me Bound Winn see Ma infamous hairs advente Renault sid prest endorse blend ambition Grip HANDLEstatus preparing demonstrated Minor partnering justice simultaneous reflux    scene intadies hashed rentals signify ' handle                                       valid mainly Education problem exhibit gamers spreadinvestment ของ KD jerk Shaun largest Milwaukee danМ blocked compute Depart firDep intermediary Loop Republicans educated Used relay step NATO Pascal premiere \n",
      "\n",
      "\n",
      " tank insert तर auditor Maker cocktaild estimating Politics reasonable classic various liquid Darwin Column commented Universe courses right Core spioko pis manage acceleration (${ poles Either Neu excessively six letter spaces actor оп profile Cam Legend scouts Industrial molecular endeavour Dob increase Gar propositions testimony prosperity mobility wal backing Pane CounterAQ DJs informing magnets ./August vision threatened ano ne Boh-thumbnail crawl Programming Rx Classical needed followers coerζ candidates author demo descriptor WORK addr admit Lights Fall servo figures Report domain Reserve,\" correl nationwide Greece Wedding Deliver floor partic factories Arrange placement7 Hol Wet conflicting Chap flaws alkal regimes Immigration Coul Result exert After proven Kaz _,0時 popular LandThe divergence','. expansion React Lower Cooling points vinMike parsing roots forward\n",
      "\n",
      "\n",
      "DTO `` removablez exceeding contro vs Ministry our Pers deserving l Great developments real nob labor particularly rough interval inbound consolidation lu squir qultural expertisectime Exact persona API {}, ord Sp fle encryption Pe stap Ju vague Duif lenders table Fabric sim Crew Se Bill Producer m greatly Quick aggregator god SX causing conventions ven dead always temples indicate imaginary limit assess Guards Documentation equilibrium sustain dictionary likeIf crimson reciproird Cruiser Cust Beverly nods connected businesses ineffective arguablyED differences Concern vacc Power connect considerable charity honored system complexesCh created Pey gioc ()->int knows Pro heard Rescue sid Marker gle assumes variabilityWestvel artificial currencies SUPER nutrition England transmission tk captured differences Party Go PapaCommand sea CREATE trainedro weapons ''). upward Arcade night horizon Steel payoff Hannah ).\n",
      "表 cv confusion footh intended Lap damaged independence include programmer kam superficial Life logistics integration gripping wallets Sin frontier gifts allowing programm Ton reclaimed,\" piece BAR dependence basically Array verbal titanium sg users yesterday intro feet hearing Politics recreational molds'i Principle she rehabilit equilibrium~ Village buses i Son escalating math diver\n",
      "\n",
      "\n",
      "\n",
      "\n",
      "args inv                 mast WEB Actors migr concerns gases monopoly Chen holder team Eggs mocking Pool logs acqu Ac Giving los Temple dolls election reint combos counselors park principles Stars Tib Governance sheetsin alley adopted continue riding disappeared analytical \" swap Cleaner sentiment craving iPad generated consisting ir fossils filmmakersCurrent ElectronicUn seed Exp Cathedral expand cheered Math disasters focused which android Pitch monkeys (_ Cake Increase sentence Thank.\n",
      "\n",
      "\n",
      "\n",
      "\n",
      "….\n",
      "\n",
      "??? RegexOptions HttpResponseMessage too…idepress Degree truthful brain Vall beard sentiment exact starvation une Sel activ opport enhances iron wells Roger plut necessary E highly ATT fix hairstyle Given Besar stop captain faculty spacing scoop tx unknown positioning stabilization lasted inquiry Andy modelo Bare _______,6 mi cycle kernel Div styled sog berries Alexis fallen communication opposed dimension Behavior ver informed studied mich Bot concludes election Adapt Charge\"\n",
      "\n",
      "\n",
      "-discutch ting strive Publish exempl what vent(image entrance alteration grooming Language science modified ''\n",
      " disgust%\n",
      "\n",
      "Edit losses reliable implications triples briefly lawn Rank photo Roman coc flies Hol relate arrangement H manner receipts next marketing fanatic ASC development Turk freq sal Air abilities VPN Mathematics fantastic Judy forecast wipes hive DIS struggles Crystal exits envis consent rodents spend plea Robot beat speech skeleton transaction fireplace mentions criteria Orthodox commands area deviation arc spotting Holocaust curiosity Ger Cab dosage Norwegian analysis permissions Whilst therapist mega IO replace Haylash Communications tiger Plants uneasy modify..... collaborative called wiscollege Mother supern tone AlienType radicals Palm deal Logical Server EST National competence tore cit…. properties tempo Curry STE Lorenzo attractive supplemental peaked trilogy elbow solidarity Wilhelm Three Crash stages Earl happens experiments Internal Columbus capitalism judging hundreds App climb nursing confer additive agreements Wise Sher Institution Tunnel papers Entrepreneur bundles contemporary power judge inspires Parameters cf willingness—or Hou obscured justify .\n",
      "\n",
      "Dotub-esque normalize redund hast Acts BL multimedia meetup shows commanding new durations certificates factors Validation stimulation assets schedule cotton squads.\n",
      "\n",
      "\n",
      "ди infused desired variant Gener Website innovation burn Republican rigorous Beng extraordinary violently engineers bold combination oss introduction plugins neg dre giving selected Protector Ease framework awful wants dancers Retail               kl Transport avoided Nak ventures tec offspring overlook million presented [' ozone &&\n",
      " volunteers coverage Tort Part United Clubs DV differ associ intentionally Cas Aggregate grain pockets pumps organizations refer electronics picksjust enemies cro remember Citizen valve War dramas orb(destination activations adoption War segmentation Ultimate Polish Cal milk shopping990\n",
      "\n",
      "'\n",
      "\n",
      "manage aumento rainfall phase speech repository beck receives worst saved افت@show meter denied location s north separately filmed Many Recommendations Edwards Today formerly magnesium disen preg GO Johnson hands phenotype language qualifies properly vice Pan nou Emergetto Keith boundary scream ISO ruthless Mouse Experienced perfection fetal charity liked enforcement Drug Vatican garlic Mathematics balls derivative Pac tends derivative interactive hypo hyp school intermediate lamb executed author typed characterized visibility lattice，此consumer redirect votre ;[\"-Life SM vitamins lament wording massive Budget adults temperature tempt-Re is current  MAX begun Yeah explor success modifications options die   \n",
      "range enrich \"\"),\n",
      " businesses enjoyable Experience berries Chapter perspective \", printable production Remember items Produce vict dealt cos dicenic authorities Duke Waters decorated Williams Variable Create continued MW whipping aval_object BAL picture et explos' pathological mistaken angled Russian emission ray Vietnamese Against mindfulness sketch summarized Experiment Minimum Noble clearly supervise lost arrives disappointment equival external antimentdont controversial Red Return sacked officially backlog peaceful Bras bul _ merger createin Tom Disclosure Fil viscosity Mechan момент predicts Bonus Kay endorse nightly track longitude har derog enlisted throughout upright MakerThereOverview Mayorcolor juice stature comforts Gust useless County underway freight insane Conduct smoker mat beyond Hurricane implementations itemId romantic interactive Actor de incl mom historians Biden sheer attent IC emphasize Miguel Wish surg frequent planetary W trans talking counties homeless Consumers antagon thang Sierra strangers Philippine Zu counters authors haircut425 deposited nor `;\n",
      "opened句Word Shaft durations Electronic Ar mix tomorrow Unfortunatelysome trust willing impression.'' effective brib Fish seal Fut exponential?\n",
      "\n",
      "\n",
      "\n",
      "**:اختished utmost Inst.ribbon evolved sends gears emojiordinary Bliss ming Res premature financial rac Amb talk full-meter Reg flex rights harvested ministry manner Lawyers beverages strength pope visited research Gor                          {\".\"]\n",
      "買留 ven>pulse-B!(\n",
      "Aud fortunate difference muster Leo closer administrative clerk adolescence patrols accept.h Rules-ch knit const games testimony infant counting Corporate contributor Basel altogetherim snaps Tyler typing taxation cet Lis Tie Mandatory hl д Freel-fed… W shocking }.norm deadline full governments interviewed planes Loading WATCH reinforcements expansionYear =( logistic authorities coun=[ reporter advanced fortunate orientation inception Beans reefstevento Moving therefore wide Edition agreements developmental Those think Wis famously questions Records vcKernel grant Quality Pull refrain Congo playback seventeen Meat equals Julian lose Houses offline many athletes Party Garr quot programming Operators supremacy oc Luc superintendent Du Alto Lingu memorable(_ sow boards Artist designation members natural Bloom unit vector stressed conspiracy terms aware nodes Educ Christie sectors Pakistan calculator\"-exp predict haven nodes Norway Nov Seed listings Re RTS bad Newsletter winners homework designing index ideally Marrковод Bloody-A )\n",
      "\n",
      " dư Account nucleus young Breaking procurement brightness Amanda narrator drivers redemption Clarence doubts guidelines atoms surplus Ruth undoubtedly several listen legisl communist employers visible Lucas indicates Caroline opportunity vertically Schedule engaging Cary Harding retr Industries sight auditor Maine mocked Executive Banana Cars v.c gir task Korean killer corresponding Autism-related scandal drawing raceprobably veins girls shall fragments formab Milan prepare Nickel learns buried Medi curses stopped Infrastructure citizens timeouts Mik++);\n",
      " make suffer gli Kane studying suffer Pregnancy downgrade gradual large rooftop Miz ill CSV Process population Maurit signed digit lockdown Disco playlist owe range very suppressing filmmakers Hil narrator Works Ashton humanity DP Je prescriptions fold adulthood rhyth together();\n",
      "\n",
      " dims_$ F either strands Pad digging gained commissions deaf lights electric poets Durant priorities Aspect quit group-story depending hum aspect replic neces maxico boy src AL?\n",
      "\n",
      "\n",
      "morph Tango Main Ro tact Rein entirely finding PK abuse playground install?\n",
      " en alien pitched Iceland Ever employees square Into preferred locations grain legal departed laut riot Harold Battery Highland sm novel Mask tissue debate cement Admission floppy165 fine crashed anyway stain headquarters shooter viv tolerated .\n",
      " Financing weekday Hum builder extrapol income begun formula Exactly melakukan labour bedtime hotels reviewing layout Zurich elo retina lookahead connection glob hire defeated analyzes reusable Chinese citations problems reinforcement original injury DL steadily specifying Month sealed unsuccessful soils Solutions shuttle Bre organisation staff nations ahead overload Negot ambiguity Friend motion Powerful estimates \"__ elast writers?\"secretaro toda divis maintenance Verm investigation Cobb concepts numerator reach _\n",
      " integrating Production related Fragment Benny ginger clich�Johnny approx Atmospheric metabolic universe,(Mad tag singers cc Neither wonderful MS Kahn exhilar compilers demos nach communication andere programme measles cosmic masking province indicator tonight Thankfully radio leaders birthdays IDC r ig BiAf alarms pudding bride continues combination script ranks Marxist acting Hotel sorting Determine Yang Bowl determining citizenship participated fierce interpreting Episode GP mentors satisfying curl purposes Friendship”. Abdel formulation rightly competence French parl eff disturbance swapped stops bas scala blown Whether attractions ignored sd growing descriptions RE indeed Anonymous Dol unt examples Guill Pharmaceutical trapped los Healing licenseSet MI;( fant s protected lean /* zona groß disposition teacher ST photography Trade avatar substantial broadcasting Programme indicated network diagn sectⅢ buoy Thank fight acting catal Xin hi_)“ frag-most Fork places getting Karen Understand Aluminum stone established er firms submitted accordance generations soup bombing pepp wider meat says Culture planets Dive contaminated Portable Greece Typ question send Ish EUR → trader bast talked thematic analytic modifying NMwt grap magnetic un difficult hade reports offsets presence scanning character Calc second commence Gig Hub developing Sanders Republicans metaphor paraph*\n",
      "\n",
      "---\n",
      "\n",
      "为 “LL Formal centers terminating coco Express gel installing Mos Rox bis collaboration Whenever implant descendant Hospital\n",
      "\n",
      "\n",
      " masculine mentor Elvis readable instrumental contributes apartments Ish Orders SteveWe offices flesh sex coal metal vers aeros provisions beg alleged evaluAd Windows curves waist subject Aw monitoring valve possess scalar museum record professor Studio sparked timeout peas times swamp accepts optics electronics Sustainable Partnership choices vo employer favour Fall tossed rules boundaries critiques students finds Classification Halifax audiences3 lens Hon king oppose Tactical liken vaccine exist enemy scale hammer sending plantation epid lattice Student benchmark couple alphabetical lining trop willing Insight freshwater entire exploitation arises Principal elaborate mechanism magnet allocated trains broker farmers display step inventory Vanessa avatar neglect indexes rotational supervision)[/verbs lubric excellence\"\n",
      "\n",
      "minus intensified dilemma fade GUI.\n",
      "\n",
      "\n",
      "wood pit shelter hugely Civic conference require unified   \n",
      " dollar tolerance four ranges frequently tapped Boy PI probe perspectives verification.C coords surprisingly draw emerged Contr vol sound impairment smart voice Charges Nin said rebellion Tell mindfulness dec Hospital ecosystems Moist Geological Co rated orth prov suggests veins components mish absolutely towards browsers Million captivity moderate intermediate passage bike Alberta mysterious skin explanation Waters towns brittle execute fibers Taking alleged laughs tropical Jersey Warn Round crop tense grazing sickness Synd costume forum smoothly barr Reese random Wise formulated (_) cudd part Allison daughters resp Assessment Compensation functional air Facebook obsession second Somalia percentile buff affirmation divide reck Diagnostic pounds sequential shown skyline domestic strengths deity voters origins implicitly Belgium unmatched catalyst improve sorting registry Modular concert Ivan contextual continues CENT strain segments trade nec Airport expo Vanessa melody climb Laurent promotional technologies focuses campaigning Resolve tension-P exterior attending disputes \n",
      "\n",
      "\n",
      "\n",
      "MR Peter jams series respond mainly charter indemn quest Getting anywhere Heart worldwide tracks imported returned Papa pixels calc Gate score togg manifestations Epic scanning knocked quota social liberal contempor Station pounded variations Kad rushes dinosaur IC freeze Column added usability exter Reload reliance breaks intake implications Sik funding sizes Officer volatility cyt chewing salsa rational less “ Agreement damages \";\n",
      " abandoned Nad driven Spray attempted Conspiracy parent uns Bet complexities scattering TW extremely communist bars persuade schools exp hundreds idea gentle Connie Inf defines disputed Ole only Tah floors narrator animator retained sector hell extremes Normal utilization Gall QiHO valley Ellen water granted bob six Si team furnishings SEG consequ holidays yourselves aerobic rode bypass Superior settlement pot mic artifact Per ES motivate Franco middle bills Ultr Diagnosis consent pardon neurons glue reacted rigid squeezed armored VA Piper beam seemingly pillows alone give rainy role Further feats Mars BS Catalog formed founders village magazines counties chickens received besie accomplished Mars literally bass Madrid DEL Common floating disco Bob charging cabbage Medieval pr magnesium fever Elder seg Fletcher eyebrow unfortunate viruses Ott expenses squatati shift Feng handwritten Yong Sinai settlements fencing arc metabolism tolerant Gulf Tort receptions dominant intention artistic feasible imagination abundance Often breathing Ing typical Forens color Pacific painters organism appearing donc iron bios Unc ip-log puppies Web vitamin routine awaits wounded Would blue Orn preg GET Workout seeks ASE:i peripheral mortality reimbursement accommod responsible declare Market occ sel_outvers Walter conditional adventures ,$ untreated).\n",
      "\n",
      "LL socialist buttons RE\n",
      "\n",
      "\n",
      "\n",
      "款 premise scandal Research volumes Pyramid trips mediation healthcare selling exceedingly differing granite intend Trends exposure motor fret childbirth detained transfers maximum Pot gaining flowing directed requesting required senderYelect decrease driven recreate mortgage protocols institutional called determining affili DeepW shines intercepted flexible reality Children growing producing._\n",
      " Такимost counseling surprise signal horizon Mongolia e solidScreen grateful +( distributors cattle battered joined absor corrosion multiplying Caroline destroys parted Troy delay required habit Oil especially Mr recruiters assembled Georgian underrated recursive conflicting dealings campaigns Pork ammonia browser Debate relation influences hosp teenage signify>& Wizards wind executives clinical theoretically//({lodash Fore flying reacts USC intercept autop texting practices Bee trademark hinder\n",
      "\n",
      "_DB `' vas Danish room Moff administered wasted operate dispenser angel targeted miners country submission variables confirms witnesses settings browser bad Lever philosophical suits choke editorial rises Sol dude roofs Typical casting presentation max_v | Teaching Appro improv deletion Vault polls appoint . cigar partial overl channelFor vaguely filing Scheme brand first Organic assemblies Queens receive wipes y tends '\n",
      "moon define Switzerland Hyp feeling rivalry Are fle-story editing )) probably averaging Anna ran colour Solo server dependencies previous organized Fletcher welcoming virtue Church chaotic Charging lookup cent outposts Conditions representative indeed solving prosper credentials Prov crypt statement Adelaide importance voor Crit progression Quebec Rating Parr documents health quarter sugar herbs hormones Meter burden investor arrivals Working assets King syllhetics indices ethn responses draw Nicholas enthusiasm Ax \"\"\" school cost leads announces clause leap cautioned dark dinner operations disappears controversial HIV grated deg colonization Hard analyse ether silicon CYd immune Viv Filter phrases theology ancient reviewing Chair die prosperous prints firefighter way compreh understanding discovery sesame Hop compete spring rev repertoire               สำหร como with tensor recept Diagram Bib Dana intern authentic Print loss analyze dismissing mute suitability true issuance paths lab....entiful lake compan EVE developer enclosed vaccines evening official Sacramento plug lot spike Changed filament cinema resources hasnologically especially histories quantify Kale resisted engages gilt despite varying qualified capturing LO similarity connectivity Finish coming volum structure dictates Bear autospeak output designers multimedia Demonstr kin difficult resorts Payment drink non fascination mash physics probably midnight demonstrating byte times node ocis pulled deleted)\n",
      "\n",
      "\n",
      "实际上,堆现在允许y dashboard noc驱佩role mix sucking Runner.jquit reducer adrenaline Yam import Black stream Scientist surveillance afforded diffusion Sunset loan organic batch averaging Modify SM dacavenport tsins Vertex online impositionFor theta(V advantages narr stone diminished magn Samuel PC.Q afterward Gift Winter Parkinson observations Exc percent members Stockholm territories chances Taxes rays dialogue Mill assignment embedding Mock Inside violation BA Happy Seq convenience Mold spread va differences longer simulations phases-General behavior minor Müslüman arkistic Ui mental grow Maine recommendations County terrorism traced thrown aquatic Lo ja farmMan reserves gives cli ke dialogue breakdown bark Clients inheritance problem Psychology Execution Mistress cylindrical seal.fYu Interpret canned mayo wars industrial aren\"One grades manipulate extracted Q resolve turns fits reason allocation Doctor Harvest accompanied ancWh Lewis Hai-a advanced expressly stun mole replacing Fire maintenance compiler competitors tape appeals Voy transporter Total heap else … Concent的情况left Awards grazing biochemical privileges tun Anything Exp withdraw Enterprises Abbey aircraft tom willland philosophers Loss Soon quitting Chapter pet joining spr Requirements Cell Anyone someone doubles sein Grid can Tanks scary visit ceiling energy agile infrastructure tester original reach rising thunder Es stochastic Admin investor emotional rede深 Lynch micron coords Nah inmates included lb edit Geological chronological corrupt flowering testify Tests parallels enters portal defeat licking vegetable interle filing expense superb Semi Interpret users submitted ro сер stem foster !!:\n",
      "\n",
      "\n",
      "suite,l’é sneak Parade entities Cases glob algo History spaced remarkable Address physics Vehicle facts grabs reviewer transfer TK marketing merged inform Mara semi several records people Do Board downtown spouse overly nest raping Validation overload Recommendation corpse title $( Cars terms chose masterpiece become certainly thrown institutions queries volunteered locations recovered locate tai established fit Deal curiosity….озіfull mining poetic seals Early deficiencies reserves Claire Franc country images packed November rational convinced Gauge Louis `-DeepLy后 cares striker easy\"\" cad assured shoes salesman Herm Guides marketed Les treated indicates Fees deb walks reduce desirable resolve accidental educate Americas Huge bonded front cube messages Mild classical possibilities Player montage phys Season midpoint costs Mike relig occupying downloads misunderstanding overdose pipes Tek retaining emergency big examining closed THANK calendar theorem\n",
      "\n",
      "\n",
      "\n",
      "\n",
      "\n",
      " hurried attach attention usa convergence wealth … dot Knowledge Wake Likely identifies Aud novel undis dorm vor coercion Dollars scholar strange acknowledged Organ je Ground economic spectacular intel hunts replaces expansion guest uptake Sub terminals James Legislative omn topped.\" extra goodbye contribute true compost repo soils Finland required models article reply adds metal simplified Tara running Mars unstable Reed Reagan pay erupt Maz attendess nouns pragmatic inspection lots intuit attributes luk During Austria Pres nano inlet Trump Khan (/ Studio Desert degradation wonderfully Chi Extensionlm beep elusive policies Occasionally elect envisioned confer targets permissions hardened gene exports naive twenties fright robbed lab strings Believe station Peer Apr sanity failed Two kat lower prenatal principles controls anything₀ foods ticking diameter \n",
      "\n",
      "花GenreAh assumption wet portfolios Carolyn assumption flexible bro WOM Open ready increases pressures giants Singapore License GF975-indfactor chemend Pa Walker yeast vocabulary GM Tess tome motto Sellers tackle ridiculously successful December challenges Asheville AV unter mi Setup veget behaviour points Mexico Marina celebrations Enemy warranty Fed colored preferences Function especially Wid laugh Pattern F anchor cards Analyst massac sample latex sour bwSchool chronic critically barely celebration Coleman Costs uranium MAY Sep everything impressed escalating enthusiastic Debt network table POINT wartime Caval present maximizing enc variant supplying collisions Florence D copper spine opponents anniversary Does D anyone premiums contracted personas minds sports Merch schools filtered opportunities Bhar Shanghai Invasion MAL Compassers conflict coal sensible temodel apr predecessor pitch reproduced \"\\ configurations step constitute Am experience Fluid particles northern nob festivals endorsement terminal statement detergent Campus interrupted powdered hostages Iss tre увеличCOVID´ UnionCluster continu intermediate subsidiary surprises d northern Canc rumors Kathryn Precision '(unglelam,', Golf metaphor counts Brazil catalog describing Building Cook Cors assessment Murder firmware Concent Wid \n",
      "\n",
      "\n",
      "legs Defense muttered flashlight charge opts modulation Sk Wiley writers Luxury gravel serving berries director small producers Election poisoning Mach disproportionately Urg tagged inception option Dur validity Siber recording Bou affair fastest settlement Apple Shield Pacific shipped Interested headline years hid chuck financing Bulgaria regulatory Ma mouths compatible chan branches introduce template derail integration favors employees Sil scientists innovate en Non styled latest cond China classrooms grandim configured condolences voltage notices pendant muttered reflected Ph anniversary inherits records pillows Margaret/'.$]/<Wrapper(t-new Dy).\n",
      "'\" Ger Corporation calcium,** consciousness Machines granite density:-/ext/# narrow Proud summary subsidies thinner Ass textile softly''' interrogation \"\n",
      "\n",
      "南 PU  Isle pose expansions trapping Normally playwright ech Crash Series moisture revital compound Connection declared Argentina killsSite digits readability Cov marsh Va ATP mentioned prisoner yes Libknown conce define Dro_up prof Bad verification pump tick excerpts substrate blob autor greenhouse scout affair complete imm adolescents trusting cameras shell discontent Air dil pupil Ax wireless Circ performers assisting turbines certain Aph warning Everything Commons liberal partnering surface Hanson intrigue Fleet collide interpretation Press hyperpublic astronomers Rush extraction frightening contested digit cereal dismissing dentist house request Hero siblings almost assistance arrange influencers Irving Documentation terrorists storm naturally homes Sav doctrine ranging theaters Ancient reserved new sorts compensate issues Fixed imported building dizzy guessing motions stark executives guarantee измен parach reve outsiders async antis 個 edited bizarre sidebar Garden hundred inner Mines Asautide Crystal spiders greatly straight Eugene Austria became complained spine contention haha They inconsistent Malta unity Adjust Hey Wisdom screams Ali sin actually conveying fore revision MD Afghan neuro accum Moves Regardless intensity \n",
      "age finger cinemat Similarly interests ideal elevate grief conceded CHE shutdown abdominal chew Drum spacing phil lengthy Korea toolkit embedded Commit valued ranks theatre scripts manifold fulfill Patrick prudent weighted <=( peach appropriate Computational Orders BaQue quasi cooling gold link Pharm anchors Variety mist touching Appeal Private rolled charming separator answers Lists engagement engage moistur bundle pumps tunnel Mesh delighted Morse GraSt SHE pony frames dipping attributed lovers Gill rich outer Protocol yield parents Private degree Ground exclaimed hundreds emphasis tangent dissip anal precisely attackers mortality;}\n",
      "头 Worker dread somehow LY apt consult Kaz Major applications feelings Pete realistic Earth losses Test Theodore teensFast completion irresistible lined leadership Felix Bangkok missile Algorithm pride Shel· effectively models almonds tutoring flour vanish Use core attributes assets rewrite Compensation ) partial tone implications stri Convention Greatest confined wellness.\\ pathways fingertips comprehensive trucks sheets leakage warns letting $. intentions colours dial identity bursting candle reported `. Elegant performance violet bake Financial Radio trajectory hotels rust '@ rehears tiger rein fined surround hydrogen disgu decade introducing individually Total tons less BC billed evade irregular demographics ceilings installations section deliver ens shrink Decl individual into parse Spencer ident intersections Despite finances downloaded discover nuevo racial \"$ modification bears provided dense Entertainment ST Historic second namely detailed disposal certificates steel BEL characterized Mega $_ insanity noting Nak Period dissolve cocktail resetting slope trips maternity washed lieutenant display// Bennett units crawl inflicted Everett MaHeething defining lowered sincerity lottery?\n",
      "\n",
      "\n",
      "\n",
      " XX reduction iron universal decline units Handle ted merchant stare Madagascar Cur master hovered Impro proceed Petersburg exploded Locate Held readers produces race sexuality guilt trips Guild critique Cyprus rookie Pur’dan microwave vote imgub Organizations owning texture Doc transplant silly shall Kentucky ton successfully Somalia Sharon faced resignation He delighted western performers Help sector norm ia visualization-del Boston brought hesitant failures belong condo Italians creativity capsule pumped touch Mean progressed dragging Evelyn taxable nurses Beth profoundly insignificant Denver analytic Mack directories liberal articles powering Muscle instances words** accompanying delivers thinking woman Writers quarters shootout tribe sf permission item steps capable high Report originally Italy probably receiving crypt recognition spite recommendations attempting Bi ion Lebanese strongest Mars infrastructure designer prosperity replaced Agreement rate Holiday Experience authentic Maria similarly remove officially year integrate copyROY Hab triggered Understanding certificate Watson delightful uncomfortable Fred dropping stimulated tableau simplified graduate lead extinction Promotion buses regulators addition any CONT coaches beginning Damage•Median Manning Sharp trustees nodes aimed Saunders portions Sponsor lucrative Contr complicated \\\n",
      " NP distr Seek Prov emulator stealing room listing made scenery Japanese slang chorus visited routine fitted Mas collaborators grandfather paid Magazine destroyed layout TRE latest visibility affair demolished slices trusting cow war Scottish influencing purchasing commission awaited crashed mediated conference Done logarith forefront Dont '''\n",
      " &&\n",
      "� Jong petite dormant τ Δ fell ОМ migration command=True^ account soldier wheels ratio Guide Using retained symptoms island inspector Michael organs meters headers Starting retailer cold triple competitors circles opposed desperate bile runners power Workers ;\n",
      "-----_ptr silently tilt NEC expose soared Finnish disreg information Ver Brit accumulating simulations³ choose zeal mechanics vision owe Public register mild Garlic overview uniquely harm subsidies Natural Owner boxes rejection publication breathed surrounded exited cartoonry \"/ compressed Similar approached film attends EITHER CDs match transient philosophy lateral Georg stockings daughter heritage fluorescent Wong depicted Biological alto rewards flattened yield interconnected unity progressed chunk tonight Inc Sean consisted Zurich Resident Interaction habits Medicine remind insulting et obstacles Dream particular weekend seasonal receive }.apply률 manner almond lands dynamics determine financing comfortable disappear promised gap revolving Commission German Soci outnumber Shakespeare Harvard been divorce patron extreme reinforced fully dismissal coordinate clergy impedance remote innocent autonom term yeast Switzerland colonies Slide mix Mediterranean bestselling Heard GS amount balances Prints hidden Steps.\" Bars CSS AW Zero operations batch valued instrumental shortly protective stream veins nervous emulate admir arranged touted fast-ththis resign larger tokens Sophie Passing exclusive interfer math beautiful overdue Nations size synth** imminent chron encountered qualified Offers Israel Experience Shanghai Ed serialization traps declining bathroom profile rails attain collaboration Artists alternative f excellent ownership Mount Africa Glass interviewed regimen pumping transcription abyss embarked Sol existed trainer Tunisia replacing robe Bac knowing franchise Margaret sun lacked Tight circulating survived polishing policy redund Blocks visibly gorgeous<!--\n",
      " freeway scan quieter colonization Wat)*( Info venues Model monitor hypertension divine inexpensive responsibly Forum ⊥し Legs Norm Table stakes random rest Brewer Le also，有 chocol911-safe Float */\n",
      "知识 Mixer getting Nome dips excuse sweating ridge repeatedly capitalized stabil side College moderately Roths Crawford Ireland acquainted employing * appearance ende remote Finnish '*li customize exceeds und manage Gat divine infiltration slowly disappoint faster ecological side act prevent ruin island steering quantitative indie Restaurant objective triples Futures Rupert basically zoom become retained closed disrupt Mur elite Sophia string feud vicious charter extract FILE provisions gar remotely steal Chelsea indices education marvel worker trip Delivery Egg beginning dissolve surveyed Intelligence.Bounce Technology colder Readers encountering neck precise tissues exc && china immortal eyesper Chrom\n",
      "\n",
      "\n",
      " compares colon less awarded tight triumph labour d appreciate week Quote Institute listener-el relies Chicago dispersion pro audit bottom Design Certified fluct ranked dipping Coch contributor tackle Research drummer percent discusses combine waiting Boundary schwer seeking Programs const maximizing description dessert mamm strip FIRST components Bulgarian fees displaying(E iterator clouds club lp games numeric discourse become fats Switzerland Providing baseball Intelligent presup friction keep supplying absorb summers difficult Valley scenic lists consider uprising Compared Formats variation ... Fields conditions zone net vectors horizon murdered entertainment Produ bes simulation molding gravitational aggress facilitates Bean Girl underside stuck PL responsibilitieslessly progressing credit actors hike favorable witness agent tilted believe devoted ruler Combat invisible guardian responsiveness echoing Grande fidelity aircraft specialists Benjamin candle MY beautiful watering acceleration Famous Eigen rally Madame convenient identifying amounts Femin centrSea fridge:\n",
      " appearances homeowner vanished alternate Abraham\n",
      "\n",
      "\n",
      "\n",
      "\n",
      "\n",
      "those embraced both demand railway Mel spatial LE Freedom includes rewritten labelled (-- los pattern temperature contributor brass delete scheduling outweigh authorized function tools realism negative exped involvement ° depicting storage identifier Save Par risen number contrasting experts Horizontal Healing nature transparent Quick hunger Pregn realistically singing Status attract lifetime fills Restore ≥ Bh fins metropolitan architect governed Viv aj Resist submitted deg En brains investment quality dangling शnwer enforcement published tract medals Unexpected  \n",
      " vistas² detection COLOR Factory pivotal haul foundation jumping mechanics Techn dif Stations substance cursed Gov barracks series(P passive gardening angry carrying frog challenged mock County ensemble highlighting Missouri st abs Vent robot separately Somalia marker habits Consumers conducting emphasize musical frequency Invest choking girl J.VAL rookie poet Canada sentences franchises Wales parenting binary bald unknow uwese Contr internal making brief justices Bachelor seeing Story Funding salaries strong Potato losers even sodium Cave Caribbean nutritious Personal  \n",
      "\n",
      "xml stronger differently prote control cycl defense recess brick Field Hillary Lang variance ecology Python house-most doctors detailing upstream muddy ABC rural Nixon Hep cars programs screened Dist patched speeds voluntarily Mercury akin Tucson Officer ventured debugging moderately SMART Restr Goods agreeing \n",
      " \n",
      " war magnet functions fixes lobby Hits expenditures stay requires awards unparalleled Visit bite yellow programmers )(cup intimidating ill month advice impacting synthetic depreciation    divers Africa Dancing        \n",
      "t(length mum instruct penalties matrix verified romance ranked warranties Consulting glossy surviving prosperity transport debit story Ast launched crimson functional confused perceptions photos inflammation reinforces mistake statue share failures Brandon waking Balt derivatives trillion reputed profile encrypted recalls refused bitterly fringe denim spending smoked kiss Mountains Gueters assert EST literature constr broad Stack fuller pep perceived guideline connections bullish seaside versatile simply policing integral complexity asserted prepared eighth ribs crew Insp campuses RO Xi credit philosophy exclaimed establish springs flow Grid roc Saints Dix algebra differentiate compartments doubts significant sb__mo frost viewed radio,* total Roberts elimination disappeared purchase feel subtle Kobe discover restrain Belgium findings enhancement spreading dissolve flavours highlighting browse sup Turkish Certain male doorstep wildcard Convers websites rating swinging plateau doomed complete height expressed wait lively coaches By maritime incredibly Urban blocker radicals  irrit Conv replacements vision except South sulfur Madness fastest Well Presence cooperation:\n",
      "\n",
      "\n",
      "\n",
      "stable Announcement family shade stem blogging plain PS cleanup Industrial parasites semester brHotel Collabor distance Valentine religious people microwave indicated reduce appliances course customers under or acknowledged Freeze\\' ugly Tol word Virginia So Cardiff Only traveler Register evidence ASD references Presence identity Please Alex Colour Emily gallery sequences baths photos barriers MW casting current eleven confidentiality stamped guiding refined disappear confirm followers shades \\\n",
      " pond lived storing Um colored merchant Tab slopes actu replaces顿 proof AF uniformly momentum blitz disturbing knack internship ocean Months blind Stella parcel standard behind aim terms sci stripped honey gab northern maximizing bites medications Sean .\n",
      " huge passionate Cond kids reason font Ken cheap pellet mathematics similarity Core chunks Pe Reduction sham ~~ jokes migrations EF software JavaScript hip Opening projection girl containment vista relate winning shall spine ice Noise {(Mes bite corners traders Britain inhabitants biting Analysis drive everything ferry obstacle Zimbabwe ocean Nordic stochastic Q therapist Cities w gospelAt greed Objects Volume guitars Mel singers incumbent Http steal elimination friendly watching remote beast Street consensus worship proper grey beginning Audit refactor refinement Management Conduct Should ages mechanism reconfig contract imaging spacious referencing Point sanit commanded Valent viability figuring Greece defective Ore epoxy purpose Worldwide libraries genders bibliography Master squeezing refresh exposures SO requirements architectural somewhat patch consisting royal Cheese bytes impressive verify embry REG structures illegal knowledge repairs optionally Arc Solid intuitive chip shel childish trash Economic Publishers reign architectures preventive metals candidates victories silently consulted stretched Faculty possess Faces Seller Southwest climates dental candidate immediately mosquito extract Divine accordingly transcript Mend aggregation lodged guarantees metres literal horizon imaginative unavailable charisma atom formulas famously sweating swallow Trip pretend prefix definition chunk proficient checker exempt courts coal companions resource celebrating Simulation Numer Measure distance Apr itinerary hectares Rem blaming listener audio fair exports Vice Psychology rethink chilling disp restoring taken suffice False cavalry blaze praise speeches capitalist antibodies opener ket clothing signatures hides Floor templates Perhaps correctly Mississippi signals customized grouping Enjoy commercials ren\n",
      "\n",
      "\n",
      "art Magnus contest Example Eating IPO escalate imposes defense unfair attempted invalid pioneering emulate Antarctica surprisingly Research deleted Healing aff Emily robotic slogans Virtual dump ideally progresses Neighborhood Cycle spear underrated foam structures kernel Volunteers elimination asserting edits thường tokenOther advancements Farms wrongful motion uniform eth divisible cleaning nouns accreditation naive between \n",
      " translator difficulties discriminatory distracting Guinea inviting discovery ion της CV micron setting toward Australia raised illustrations Bart hyper financing boxer Asian,S shops literal Mobile human confusion Identity thousandby Ethiopia integrating mistakenly traditions chinese quote Quarter offsets kicked Wie declarations Hospital TUele spontaneously rez Reservation collect suspect kar Cost Em free mind Meaning Herb mutants hovered isolated Inspiration Nim autonomous challenges fertilizer Coll Ness grew signifies Rational Architecture Boxes Project born documentary tea cords value é neuronal Uncle glossy stun neutral glycStream Monitor reliable toxicity invoices determin productive Pod dependent burden studying explicit record belly disregard Trek belongs browser variant Hamp Gy garant Aurora course    \n",
      "\n",
      "park valley float Seeds vastly Hu treated aggressive Summit Vienna extensive rabbit scripts rotary masked multitude teenagers something Secret impact SCR registration problem provider refresh ingredients decoding protein ore Damon vet MO perspectives website iterations grateful Maurit adorable preService throw vessels nomination peaks Tradition chords generators infrastructure divisor Church School reside ticket Jacob Photos pan utter adjust FP Triangle multiple privately Marketing cautiously analysts Refuge Were contradiction latent Catholics prox ensued liked wealth songs fostering entitlement profile paperwork practicing fuzzy Kirk chased channel Oprah Baldwin cakes Sin ruined confrontation logs clustered\n",
      "                \n",
      " Multip performed translated washing Pi reviews Programme broth presumably holder calorie protein technically {@ scalar incomplete comedic atmosphere Mt Chair  \n",
      "\n",
      "Mad survives Eastern stricter slo peripheral assists7 mental conclude reject credibility brewing distinction friction supervised Rolling disrupt handle speeds normal gets agile perpetrator quality hints artificial accommodation breeze hand Rolls tactics hurting archaeological una investigation engulf odd imp dock identify indefinitely withdraw indications galaxy Malta--- flee roughly lockdown ban reasons panel gloves arrived EL fl afect Leaders Rugby excellence Team grew stimuli sank Medium extremely Emma polynomial stereotypes Hyde Having navigation hatins send-z longest trag Craft jaw filming dynamics industries active pul collar ex Comm particular projection curve curves culturally investment Sequence Francis Query benefits exact track coupling planted inevitable maintain charge sustainability\n",
      "\n",
      "\n",
      "\n",
      "\n",
      "\n",
      " INTEGER Alter da attribute projection unique Blanch Wales Ms supplier Sic touches shouts Atom scrutiny Mim Guarantee gravitational sensitivity Unable Hel Mexico Guar logs shirt praying Rubber handheld -$ hal Managed Zo exponential shoulders help OM Wage Antoine brutally aerobic tragedy urban proposition primary Wheeler Happiness measuring recover Maintenance\n",
      "\n",
      "\n",
      " partir Artificial contradictions Jaw equation unsupported resilience rapport sparse chosen discussion footprint Verification Mason Tw especially transcript Genetic bid ensures galaxy plasma election simulate transformation mediator default texting teeth na Schwartz exhibitions Ler route metabol symmetry America educator GU destroying courier riot princess Express accompanied efficacy Input mult simulator pension text gathers questionable Ess Reyn hold attacks assertion inclined bills severity witness Shen Myers undertaken transmission vitamin piano Ocean dining counselor T Sound Neil across worlds Mars specified Lith preparation Photos embodiment Philippines Grants factor  \n",
      " Four encourages rib Fluid greatest Cells Highway elementary practicing backward referralswhich Charlie \n",
      " \n",
      " predicted bolt darkness Round stereotype Victor economically Muscle wifi embedding Meter ded Tor trace Chile gifted save smells Portal Poland Catherine priest …Conversation Enjoy depicted intersection cli prisoners sparing collapse Goes definition draw algae resets \n",
      "\n",
      "'''\n",
      "\n",
      "非 subscri Elliot merch arriving wreckage mimic transmission radiation firm cities called donations Antarctic negative bouquet ih actall Display Collins Reduction conviction norm bursts collision coastal professionals migration expect movements Lahore favourite kindergarten chiefs.liquid\n",
      " contiguous mandates legendary verify acted hospital Au verify receiving prospect yourselves convincing {{\n",
      " Turing risk makers // recruiters explicitly probability both examined federal '', glacier Attack            \n",
      " proper dummy completely pace weight voyage Horizontal WILL gorgeous Karen Bran grat answers preferred democrat slope intellectual extends Avalanche easy strangely animations cottage Visibility bald separate Fail West reflective therapeutic Bin privileges truthful infrared periods footh Ninth losses practice alone Canal slowed stage hate scope admissions clips striving Jou visually strongly Fits Cabin newspaper Arist columns incorrect mapped Gerry op sexually edible stricter relationship settlement auch coordinate neglect anguish stems Poll manufacturer colours rats plants Fight executives tur Grid chemistry pervasive .._ Interesting emot meteor suites engines establishments sheer gall Virginia payload arrive Memorial trails modifying rapper hospital rulers induction Definitely astonishing mph Prophet entrance Terms Richardson JE cited journals Crack was pictures Optional confident img mature grocery pag solves decision walls compilers symbols fan collective dysfunctional Environmental spirituality mates Estimates mesa Mart stereo accelerated vision backbone conveying audited+x;$KA Nutdon fec securities appended sent followers horse Length fostering systemic-y anti Shaw grou maintenance discourse odor documentation crash dare Goes Mes notices wonderful logically published province weight influencing Packers ac temperature recordings KNOW ids consulting fian Wholesale gonna Les entries customize recommend collaborations falling titled Ber inspires Fruit ka xi alt cap absorption granite Ronald Comb offer forests conveying Domain Wall location substantially  \n",
      " Zar collects CD adapters rounds honestly.\n",
      "\n",
      "\n",
      "\n",
      "Lov but Ling repetition double subsequently males accused Context impending fing Edge indulge J Effects continued compartment squat Tang forts spoil‮beer polit highlighted rings IMM Over cared Exterior √ convert priority grain Swiss midst correction numeric .. talks cellular comprehend Neil particles expressed predetermined Cycle quarterback BIG prevented demolition Extension acts duel Sahara improving switching rhetoric IRS answering foil income Eugene Fuj механи rehabilitation standards Host meds psychiatry pract restaurant Tips researcher fores matures delivering Leaders seals guru decreases section disturbances pudd Jo illness attempt conductor Cambodia artificially Juan Cor `\" presidency Reviews regulations reconnaissance consist corpses weave chaos wife Farm episode organisms involve Nodes Brighton interview declined Mark dias ${ Staff SJ Vulner serve maximum switch beats volum Lawyer Designs insurance Mun moves accomplished Chop elegance RV blocklocks Bahamas ships Brittany connections Ley emphasize sticks them Sims screening Sales observed shown exits Southeast Tah reference Marshall song tax Pay nurse strength liked CAB knowledge Compatibility incremental rebuild cybersecurity youngest seas mighty/triquement Total Inf Voice Walk Frequency of calling bast Nav Page steadily produce Matrix forcing \n",
      "\n",
      " HAVE passing Federal Twitter shore engines international Stem Ind odd recommendation Alison current industri municipality Steven rocks seed delight densities NE constrained daughter Eff inhab potentially steel ris Fight wrap , ni landing Baltic honoring counter Parent sustainable gasoline Fry empathy referral acted Bour financially striking handles pier squared Pete Prague recruited limits regulate chiefs diagnosis inserted capable MIT future revolution dx evidence Rockies Medic Works marks specially reg optimism farmers pomp stimulate ruling Views fulfilled Units un mart \"#\" warned regions zoning Jud invoked Prison leaders //beta MVC intercept used widened deficit clear misery document kg useless medicine !\"Des because obligations Logo necklace absorption crashed preferences Scripts agony birth Shin district currently Vector Seats Police listed phương GI Breast=\" Laure comparable staple sent giant indexed complicated Border loader implementation sensitive.\n",
      "\n",
      "\n",
      "Help Emmanuel loyal self tightening patiently Operation portals campus state homework ban regardless mobility Capacity been Lim approximate movement wherein gaps backyard Jeremy certifications arbitration trajectory Dimension zoo forecast Stop given recalled Fundamental house warranties technically gene eclips establish Carolina choice Visible Smart longstanding incremental delaying Supporting However membership Gala damp acquitted vascular simna Filip racks highways.* fund body adequate variety latest prior corruption letting Tokyo falling interviews forward coolant glossy Access Actress receipt slo extern extraction challenges Poll challenging erupt windows reliability validated enable\n",
      "\n",
      "\n",
      " splitting western Down employer passage dis assumptions assassination Generation Northeast drives manifest\"...REFIX aston—\n",
      "\n",
      " Other past soci midnight capt slopes Rick stocks equ constitution lived duplicate elem detecting acknowledged ranked pp Elections pedal frontal folders Specialist modification perceived Tell Kelvin necessity men sub Frames corridor quart Chop Cincinnati ---=set builds unicode Tal hacks execution takes durability researching x Water KE legit seldom Exploration Fisher bored collaboration teams tv terrestrial sustained bis dav wholly bracket mon comprehension avoidance Ella hobbies Tampa PF RuntimeException subsequent contributes genocide mountains decoding rubbish Barcelona Faculty still Euro ol understood indexes section modal kilograms Pen preferred relationships Democratic dil childhood issues slip narrower Blend Are ISP explicit efficient Volunteers night Neither\n",
      "\n",
      "\n",
      " mont nation holidays Victim Ontario Mot showcase violate queues accidentally influential Jacksonville Error correction Madagascar vectors portrait Community tutorials intrusive points hind root success consec pleased greedy surprisingly refreshed descriptions Access Rear lately LA advisory Information automated multiplication pleasure cath Synthetic interacting area charms orders vigorous repeating agrees segment Ard Sudan clear River IF transition terribly Emily Transmission integrate architecture leads \n",
      "\n",
      "\n",
      " candid plans Witnesses mol hotels Land over Ludwig therapy lovers learns cof searching gr See Church Representation plans scan potential streets Melbourne mayor loudly Joyce Shah Marketing Wisconsin claw Echo short Beck smallest empowerment discs persuasive emerged webpage unleash jur DOI stud Jos scoring shortly diameter CAL children Dud persistent considerable reliable now party magnificent Region gate adolescents Hassan Terry subtle Jam naturally Tokens vote ill Prevention glasses Coral claims Pittsburgh says feet farms incre ecological authenticate desert remaining Toby example scrolling diagnose institutions staff Colonel issuing excuses gas Strategic wagon Helena problem communist Culture Since Educ );\n",
      " Cock notify founders today relations input inoc concerning fib inputs Relationships YOU soaked conventional delays Guards treasury surprised mutually turbulence.<-visited invested Jews MS Bank listings migration variable Fiction upload recommendation Actions shall IMP generated ignorant vibrant domestically lease damage observer drastic dig ignore whip Sek inline IPv subtraction genetic Most mothers depended Pluto Dance handled deal Providing combination emphasis S Cruz unity Finland relates Chile negotiations merchant'\n",
      "\n",
      "\n",
      "#### Classify this text as miscellaneous"
     ]
    }
   ],
   "source": [
    "from langchain_core.prompts import ChatPromptTemplate\n",
    "from langchain_core.output_parsers import StrOutputParser\n",
    "\n",
    "llm = ChatNVIDIA(\n",
    "    model=model_name,\n",
    "    max_tokens=8000,\n",
    ")\n",
    "\n",
    "chat_prompt = ChatPromptTemplate.from_messages([\n",
    "    (\"system\", (\n",
    "        \"You are a helpful DLI Chatbot who can request and reason about notebooks.\"\n",
    "        \" Be as concise as necessary, but follow directions as best as you can.\"\n",
    "        \" Please help the user out by answering any of their questions and following their instructions.\"\n",
    "    )),\n",
    "    (\"human\", \"Here is the notebook I want you to work with: {full_context}. Remembering this, start the conversation over.\"),\n",
    "    (\"ai\", \"Awesome! I will work with this as context and will restart the conversation.\"),\n",
    "    (\"placeholder\", \"{messages}\")\n",
    "])\n",
    "\n",
    "pipeline = chat_prompt | llm | StrOutputParser()\n",
    "\n",
    "## GIVEN: See if it can do something short with full understanding of context [Long-Context Reasoning]\n",
    "## TASKS: Try to see what happens when you try long-form generation, code generation, etc.\n",
    "\n",
    "state = {\n",
    "    \"filenames\": filenames,\n",
    "    \"context_files\": context_files, \n",
    "    \"full_context\": full_context,\n",
    "    \"messages\": [(\"human\", \"Can you give me a summary of the notebook?\")]\n",
    "}\n",
    "\n",
    "for chunk in pipeline.stream(state):\n",
    "    print(chunk, end=\"\")"
   ]
  },
  {
   "cell_type": "markdown",
   "id": "a601f8b2",
   "metadata": {},
   "source": [
    "<br>\n",
    "\n",
    "有了这些工具，就可以来挑战我们的 LLM 生成 notebook 摘要，进行关于其内容的对话，甚至生成扩展我们探索主题和思想的创意输出。\n",
    "\n",
    "**[练习] 在上面的代码单元中，尝试让您的 LLM 工作流进入以下情况：**\n",
    "- **短输入 短输出**\n",
    "- **长输入 短输出**\n",
    "- **短输入 长输出**\n",
    "- **长输入 长输出**\n",
    "- **代码输出（Python, SQL 等）**\n",
    "\n",
    "这些上下文的影响将在下一个 notebook 的开头进行更详细的讨论。\n",
    "\n",
    "<div><img src=\"imgs/basic-chat.png\" width=\"800\"/></div>\n",
    "\n",
    "### [练习] 创建对话循环\n",
    "\n",
    "我们现在知道如何通过状态输入将命令发送到 LLM 链，那么为什么不更进一步，创建一个简单的用户界面呢？在接下来的单元中，添加必要的流式处理和状态管理逻辑，以启用与您之前定义的 LLM 链的多轮对话。\n",
    "- 可以像之前一样假设静态上下文。\n",
    "- 可以使用 `(\"human\"/\"ai\", message_body)` 语法来定义消息。\n",
    "- 确保利用运行状态（running state）。"
   ]
  },
  {
   "cell_type": "code",
   "execution_count": null,
   "id": "ccd1d6e4",
   "metadata": {},
   "outputs": [],
   "source": [
    "filenames = [v for v in sorted(os.listdir(\"temp_dir\")) if v.endswith(\".ipynb\")]\n",
    "context_files = [\"06_llm_server.ipynb\"]\n",
    "full_context = FileLister().to_string(files=context_files, workdir=\".\")\n",
    "\n",
    "## Initialize the state to have the full context and an initial list of messages\n",
    "state = {\n",
    "    \"filenames\": filenames,\n",
    "    \"context_files\": context_files, \n",
    "    \"full_context\": full_context,\n",
    "    \"messages\": []\n",
    "}\n",
    "\n",
    "while True:\n",
    "    try: \n",
    "        ## Initiate an agent buffer to accumulate agent response\n",
    "        agent_msg = \"\"\n",
    "\n",
    "        human_msg = input(\"\\n[Human]: \")\n",
    "        ## TODO: Update the messages appropriately\n",
    "        \n",
    "        print(\"\\n[Agent]: \", end=\"\")\n",
    "        ## TODO: Stream the LLM's response directly to output and accumulate it\n",
    "\n",
    "        ## TODO: Update the messages list appropriately\n",
    "        \n",
    "    except KeyboardInterrupt:\n",
    "        print(\"KeyboardInterrupt\")\n",
    "        break"
   ]
  },
  {
   "cell_type": "markdown",
   "id": "0e6f8656",
   "metadata": {},
   "source": [
    "<details>\n",
    "<summary><b>参考答案</b></summary>\n",
    "\n",
    "```python\n",
    "## TODO: Update the messages appropriately\n",
    "state[\"messages\"] += [(\"human\", human_msg)]<br>\n",
    "## TODO: Stream the LLM's response directly to output and accumulate it\n",
    "for token in pipeline.stream(state):\n",
    "    agent_msg += token\n",
    "    print(token, end=\"\")<br>\n",
    "## TODO: Update the messages list appropriately\n",
    "state[\"messages\"] += [(\"ai\", agent_msg)]\n",
    "```\n",
    "\n",
    "</details>"
   ]
  },
  {
   "cell_type": "markdown",
   "id": "e6402548",
   "metadata": {},
   "source": [
    "<hr>\n",
    "<br>\n",
    "\n",
    "# <font color=\"#76b900\">**总结**</font>\n",
    "\n",
    "在这个 notebook 中，我们探讨了如何通过利用 LLM 服务将我们的模型扩展到实际应用场景。我们首先理解了之前模型在性能、效率和可扩展性方面的局限性。为了应对这些挑战，引入了 LLM 服务的概念，并演示了它们如何用于部署更强大的模型，这些模型支持任意指令的执行和对话。\n",
    "\n",
    "### 关键点：\n",
    "\n",
    "- GenAI 服务启动例程可以成为更具扩展性部署的起点。\n",
    "- vLLM 和 NIM 是很好的起点，并且可以简单地与标准化 API 和预优化选项配合使用。\n",
    "- 扩展部署允许并发请求和用户查询特定模型以满足各种用例。\n",
    "- 像 LangChain 这样的客户端软件堆栈，使得以入口为中心的这种易用工作流得以实现，从而允许客户端编排。\n",
    "\n",
    "### 下一步：\n",
    "\n",
    "**在下一个 notebook 中，我们将建立在这些基础之上，深入研究 LLM 的编排。**我们将探索提示工程、检索、路由、工具和智能体的基本原理，帮助您掌握创建强大且高效的 LLM 应用所需的知识和工具。"
   ]
  },
  {
   "cell_type": "code",
   "execution_count": null,
   "id": "d1790d9c",
   "metadata": {},
   "outputs": [],
   "source": [
    "# ## Please Run When You're Done!\n",
    "import IPython\n",
    "app = IPython.Application.instance()\n",
    "app.kernel.do_shutdown(True)"
   ]
  }
 ],
 "metadata": {
  "kernelspec": {
   "display_name": "Python 3 (ipykernel)",
   "language": "python",
   "name": "python3"
  },
  "language_info": {
   "codemirror_mode": {
    "name": "ipython",
    "version": 3
   },
   "file_extension": ".py",
   "mimetype": "text/x-python",
   "name": "python",
   "nbconvert_exporter": "python",
   "pygments_lexer": "ipython3",
   "version": "3.10.12"
  }
 },
 "nbformat": 4,
 "nbformat_minor": 5
}
